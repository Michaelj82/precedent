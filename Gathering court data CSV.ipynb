{
 "cells": [
  {
   "cell_type": "code",
   "execution_count": 60,
   "id": "34086e6b",
   "metadata": {},
   "outputs": [],
   "source": [
    "#importing general needed modules\n",
    "import requests\n",
    "import pandas as pd"
   ]
  },
  {
   "cell_type": "code",
   "execution_count": 4,
   "id": "51f94cbd",
   "metadata": {},
   "outputs": [
    {
     "name": "stdout",
     "output_type": "stream",
     "text": [
      "['GovInfo', '__builtins__', '__cached__', '__doc__', '__file__', '__loader__', '__name__', '__package__', '__path__', '__spec__', 'cachetools', 'datetime', 'pytz', 'scrapelib']\n"
     ]
    }
   ],
   "source": [
    "#govinfo python API wrapper\n",
    "import govinfo \n",
    "print(dir(govinfo))"
   ]
  },
  {
   "cell_type": "code",
   "execution_count": 5,
   "id": "e43a2924",
   "metadata": {},
   "outputs": [
    {
     "name": "stdout",
     "output_type": "stream",
     "text": [
      "['BASE_URL', '__annotations__', '__attrs__', '__class__', '__delattr__', '__dict__', '__dir__', '__doc__', '__enter__', '__eq__', '__exit__', '__format__', '__ge__', '__getattribute__', '__getstate__', '__gt__', '__hash__', '__init__', '__init_subclass__', '__le__', '__lt__', '__module__', '__ne__', '__new__', '__reduce__', '__reduce_ex__', '__repr__', '__setattr__', '__setstate__', '__sizeof__', '__str__', '__subclasshook__', '__weakref__', '_format_time', '_pages', '_throttle', '_throttled', 'accept_response', 'average_request_time', 'close', 'collections', 'congressional_hearings', 'delete', 'disable_compression', 'get', 'get_adapter', 'get_redirect_target', 'head', 'key_for_request', 'merge_environment_settings', 'mount', 'options', 'patch', 'post', 'prepare_request', 'put', 'rebuild_auth', 'rebuild_method', 'rebuild_proxies', 'request', 'requests_per_minute', 'reset_stats', 'resolve_redirects', 'retry_attempts', 'send', 'should_cache_response', 'should_strip_auth', 'urlretrieve', 'user_agent']\n"
     ]
    }
   ],
   "source": [
    "from govinfo import GovInfo\n",
    "print(dir(GovInfo))"
   ]
  },
  {
   "cell_type": "code",
   "execution_count": 6,
   "id": "601fe939",
   "metadata": {},
   "outputs": [],
   "source": [
    "api_key = 'redacted'\n",
    "gov = GovInfo(api_key = api_key)\n"
   ]
  },
  {
   "cell_type": "code",
   "execution_count": 7,
   "id": "a2b02222",
   "metadata": {
    "scrolled": true
   },
   "outputs": [
    {
     "name": "stdout",
     "output_type": "stream",
     "text": [
      "{'collectionCode': 'BILLS', 'collectionName': 'Congressional Bills', 'packageCount': 249183, 'granuleCount': None}\n",
      "{'collectionCode': 'BILLSTATUS', 'collectionName': 'Congressional Bill Status', 'packageCount': 138677, 'granuleCount': None}\n",
      "{'collectionCode': 'BUDGET', 'collectionName': 'United States Budget', 'packageCount': 337, 'granuleCount': 6759}\n",
      "{'collectionCode': 'CCAL', 'collectionName': 'Congressional Calendars', 'packageCount': 5199, 'granuleCount': 82915}\n",
      "{'collectionCode': 'CDIR', 'collectionName': 'Congressional Directory', 'packageCount': 125, 'granuleCount': 15024}\n",
      "{'collectionCode': 'CDOC', 'collectionName': 'Congressional Documents', 'packageCount': 16433, 'granuleCount': 9379}\n",
      "{'collectionCode': 'CFR', 'collectionName': 'Code of Federal Regulations', 'packageCount': 5805, 'granuleCount': 6814941}\n",
      "{'collectionCode': 'CHRG', 'collectionName': 'Congressional Hearings', 'packageCount': 35491, 'granuleCount': 286}\n",
      "{'collectionCode': 'COMPS', 'collectionName': 'Statutes Compilations', 'packageCount': 2415, 'granuleCount': None}\n",
      "{'collectionCode': 'CPD', 'collectionName': 'Compilation of Presidential Documents', 'packageCount': 14766, 'granuleCount': 23012}\n",
      "{'collectionCode': 'CPRT', 'collectionName': 'Congressional Committee Prints', 'packageCount': 2540, 'granuleCount': 1670}\n",
      "{'collectionCode': 'CREC', 'collectionName': 'Congressional Record', 'packageCount': 5303, 'granuleCount': 762969}\n",
      "{'collectionCode': 'CRECB', 'collectionName': 'Congressional Record (Bound Edition)', 'packageCount': 2395, 'granuleCount': 455558}\n",
      "{'collectionCode': 'CRI', 'collectionName': 'Congressional Record Index', 'packageCount': 41, 'granuleCount': 590642}\n",
      "{'collectionCode': 'CRPT', 'collectionName': 'Congressional Reports', 'packageCount': 36463, 'granuleCount': 552}\n",
      "{'collectionCode': 'CZIC', 'collectionName': 'Coastal Zone Information Center', 'packageCount': 4883, 'granuleCount': None}\n",
      "{'collectionCode': 'ECFR', 'collectionName': 'Electronic Code of Federal Regulations', 'packageCount': 49, 'granuleCount': None}\n",
      "{'collectionCode': 'ECONI', 'collectionName': 'Economic Indicators', 'packageCount': 335, 'granuleCount': 16075}\n",
      "{'collectionCode': 'ERIC', 'collectionName': 'Education Reports from ERIC', 'packageCount': 563, 'granuleCount': None}\n",
      "{'collectionCode': 'ERP', 'collectionName': 'Economic Report of the President', 'packageCount': 28, 'granuleCount': 2813}\n",
      "{'collectionCode': 'FR', 'collectionName': 'Federal Register', 'packageCount': 21946, 'granuleCount': 916838}\n",
      "{'collectionCode': 'GAOREPORTS', 'collectionName': 'Government Accountability Office Reports and Comptroller General Decisions', 'packageCount': 16569, 'granuleCount': None}\n",
      "{'collectionCode': 'GOVMAN', 'collectionName': 'United States Government Manual', 'packageCount': 27, 'granuleCount': 4874}\n",
      "{'collectionCode': 'GOVPUB', 'collectionName': 'Bulk Submission', 'packageCount': 43417, 'granuleCount': 321}\n",
      "{'collectionCode': 'GPO', 'collectionName': 'Additional Government Publications', 'packageCount': 4188, 'granuleCount': 79635}\n",
      "{'collectionCode': 'HJOURNAL', 'collectionName': 'Journal of the House of Representatives', 'packageCount': 39, 'granuleCount': 33948}\n",
      "{'collectionCode': 'HMAN', 'collectionName': 'House Rules and Manual', 'packageCount': 14, 'granuleCount': 1937}\n",
      "{'collectionCode': 'HOB', 'collectionName': 'History of Bills', 'packageCount': 41, 'granuleCount': 286017}\n",
      "{'collectionCode': 'LSA', 'collectionName': 'List of CFR Sections Affected', 'packageCount': 318, 'granuleCount': 16475}\n",
      "{'collectionCode': 'PAI', 'collectionName': 'Privacy Act Issuances', 'packageCount': 1476, 'granuleCount': None}\n",
      "{'collectionCode': 'PLAW', 'collectionName': 'Public and Private Laws', 'packageCount': 5621, 'granuleCount': None}\n",
      "{'collectionCode': 'PPP', 'collectionName': 'Public Papers of the Presidents of the United States', 'packageCount': 180, 'granuleCount': 24847}\n",
      "{'collectionCode': 'SERIALSET', 'collectionName': 'Congressional Serial Set', 'packageCount': 34190, 'granuleCount': None}\n",
      "{'collectionCode': 'SJOURNAL', 'collectionName': 'Journal of the Senate', 'packageCount': 65, 'granuleCount': None}\n",
      "{'collectionCode': 'SMAN', 'collectionName': 'Senate Manual', 'packageCount': 8, 'granuleCount': 1310}\n",
      "{'collectionCode': 'STATUTE', 'collectionName': 'Statutes at Large', 'packageCount': 66, 'granuleCount': 36845}\n",
      "{'collectionCode': 'USCODE', 'collectionName': 'United States Code', 'packageCount': 1393, 'granuleCount': 1802687}\n",
      "{'collectionCode': 'USCOURTS', 'collectionName': 'United States Courts Opinions', 'packageCount': 1734814, 'granuleCount': 3741828}\n"
     ]
    }
   ],
   "source": [
    "import json\n",
    "# Get a list of all available collections\n",
    "collections_request = gov.collections()\n",
    "collections_request_json = json.dumps(collections_request)\n",
    "collections_request_dict = json.loads(collections_request_json)\n",
    "\n",
    "for collection in collections_request_dict['collections']:\n",
    "    print(collection)"
   ]
  },
  {
   "cell_type": "code",
   "execution_count": 8,
   "id": "ae063b63",
   "metadata": {},
   "outputs": [],
   "source": [
    "# Set collection code for federal court cases\n",
    "court_collection_code = 'USCOURTS'\n",
    "# This is the start date, as in, when we run the program this it will collect cases from present to this day\n",
    "start_date = '2022-01-01'\n",
    "offset_val = 0\n",
    "\n",
    "# Request to API to get 1000 USCOURTS cases\n",
    "packages_request = gov.get(f'{gov.BASE_URL}/published/{start_date}?offset={offset_val}&pageSize=1000&collection={court_collection_code}&offsetMark=%2A&api_key={api_key}')\n",
    "packages_request_dict = packages_request.json()\n"
   ]
  },
  {
   "cell_type": "markdown",
   "id": "c1286e47",
   "metadata": {},
   "source": [
    "Getting actual cases from API"
   ]
  },
  {
   "cell_type": "code",
   "execution_count": 9,
   "id": "dac77de5",
   "metadata": {},
   "outputs": [],
   "source": [
    "# Importing Modules\n",
    "import zipfile\n",
    "import urllib.request\n",
    "import io\n",
    "import os\n",
    "import glob\n",
    "import PyPDF2"
   ]
  },
  {
   "cell_type": "code",
   "execution_count": 48,
   "id": "1b06bc92",
   "metadata": {},
   "outputs": [],
   "source": [
    "from zipfile import BadZipFile\n",
    "# Function for getting case file of a text, given an API link\n",
    "\n",
    "def get_case_text(link):\n",
    "    url = link\n",
    "    response = requests.get(url)\n",
    "\n",
    "    try:\n",
    "        with zipfile.ZipFile(io.BytesIO(response.content)) as zip_file:\n",
    "            # Get the name of the first file in the zip file\n",
    "            first_file = zip_file.namelist()[1]\n",
    "\n",
    "            first_file_contents = zip_file.read(first_file)\n",
    "            # Create a PDF reader object from the contents of the first file\n",
    "            pdf_reader = PyPDF2.PdfReader(io.BytesIO(first_file_contents))\n",
    "\n",
    "            # Get the number of pages in the PDF file\n",
    "            num_pages = len(pdf_reader.pages)\n",
    "\n",
    "            all_text = []\n",
    "             # Extract the text from each page in the PDF file\n",
    "            for i in range(num_pages):\n",
    "                # Get the page object\n",
    "                page = pdf_reader.pages[i]\n",
    "\n",
    "                # Extract the text from the page\n",
    "                text = page.extract_text()\n",
    "                all_text.append(text)\n",
    "            # If the all_text list has PDF text\n",
    "            if len(all_text) > 0:\n",
    "                # Join all strings and return\n",
    "                new_all_text = ' '.join(all_text)\n",
    "                return new_all_text\n",
    "            else: \n",
    "                # Return URL to the API result\n",
    "                return url\n",
    "\n",
    "    except BadZipFile:\n",
    "        # Return URL to the API result\n",
    "        return url\n",
    "    "
   ]
  },
  {
   "cell_type": "code",
   "execution_count": 49,
   "id": "5b6130cc",
   "metadata": {},
   "outputs": [],
   "source": [
    "# Making DataFrame for future use\n",
    "data = {'title':[], 'text':[]}\n",
    "text_df = pd.DataFrame(data) "
   ]
  },
  {
   "cell_type": "code",
   "execution_count": 50,
   "id": "2844ae8a",
   "metadata": {},
   "outputs": [
    {
     "data": {
      "text/html": [
       "<div>\n",
       "<style scoped>\n",
       "    .dataframe tbody tr th:only-of-type {\n",
       "        vertical-align: middle;\n",
       "    }\n",
       "\n",
       "    .dataframe tbody tr th {\n",
       "        vertical-align: top;\n",
       "    }\n",
       "\n",
       "    .dataframe thead th {\n",
       "        text-align: right;\n",
       "    }\n",
       "</style>\n",
       "<table border=\"1\" class=\"dataframe\">\n",
       "  <thead>\n",
       "    <tr style=\"text-align: right;\">\n",
       "      <th></th>\n",
       "      <th>title</th>\n",
       "      <th>text</th>\n",
       "    </tr>\n",
       "  </thead>\n",
       "  <tbody>\n",
       "  </tbody>\n",
       "</table>\n",
       "</div>"
      ],
      "text/plain": [
       "Empty DataFrame\n",
       "Columns: [title, text]\n",
       "Index: []"
      ]
     },
     "execution_count": 50,
     "metadata": {},
     "output_type": "execute_result"
    }
   ],
   "source": [
    "text_df"
   ]
  },
  {
   "cell_type": "code",
   "execution_count": null,
   "id": "f65ab6ca",
   "metadata": {},
   "outputs": [],
   "source": []
  },
  {
   "cell_type": "code",
   "execution_count": 51,
   "id": "13de92f1",
   "metadata": {},
   "outputs": [],
   "source": [
    "# Function to search through given API link and get course case data\n",
    "def get_court_cases(json, dataframe):\n",
    "    \n",
    "    final_list = []\n",
    "    \n",
    "    # Sort the initial 1000 results from the JSON\n",
    "    sorted_packages = sorted(json['packages'], key=lambda x: x['dateIssued'])\n",
    "    new_sorted_packages = [{'title': package['title'],'id': package['packageId']} for package in sorted_packages if (package['packageId'].split('-')[1] in ['ca1', 'ca2', 'ca3', 'ca4', 'ca5', 'ca6', 'ca7', 'ca8', 'ca9', 'ca10', 'ca1', 'ca13'])]\n",
    "    \n",
    "    # For each item in the JSON\n",
    "    for package in new_sorted_packages:\n",
    "        # Connect to API link for the item\n",
    "        api_link = f\"https://api.govinfo.gov/packages/{package['id']}/zip?api_key={api_key}\"\n",
    "        # Add text of PDF from API link to DataFrame.\n",
    "        dataframe.loc[len(dataframe.index)] = [package['title'], get_case_text(api_link)]\n",
    "    \n",
    "    # If there is another page for the time period (ie, another 1000 results)\n",
    "    if json['nextPage'] is not None:\n",
    "        # Get new request\n",
    "        new_request = gov.get(json['nextPage'])\n",
    "        # Get JSON from the request\n",
    "        next_item = new_request.json()\n",
    "        # Recursively call this function\n",
    "        get_court_cases(next_item, dataframe)\n",
    "    else:\n",
    "        return None\n",
    "\n",
    "        "
   ]
  },
  {
   "cell_type": "markdown",
   "id": "9f27cce9",
   "metadata": {},
   "source": [
    "Call function"
   ]
  },
  {
   "cell_type": "code",
   "execution_count": 52,
   "id": "a28fa3de",
   "metadata": {},
   "outputs": [
    {
     "name": "stderr",
     "output_type": "stream",
     "text": [
      "unknown widths : \n",
      "[0, IndirectObject(167, 0, 2735440260400)]\n",
      "unknown widths : \n",
      "[0, IndirectObject(170, 0, 2735440260400)]\n",
      "unknown widths : \n",
      "[0, IndirectObject(173, 0, 2735440260400)]\n",
      "unknown widths : \n",
      "[0, IndirectObject(176, 0, 2735440260400)]\n",
      "unknown widths : \n",
      "[0, IndirectObject(179, 0, 2735440260400)]\n",
      "unknown widths : \n",
      "[0, IndirectObject(182, 0, 2735440260400)]\n",
      "unknown widths : \n",
      "[0, IndirectObject(185, 0, 2735440260400)]\n",
      "unknown widths : \n",
      "[0, IndirectObject(188, 0, 2735440260400)]\n",
      "unknown widths : \n",
      "[0, IndirectObject(191, 0, 2735440260400)]\n",
      "unknown widths : \n",
      "[0, IndirectObject(195, 0, 2735440260400)]\n",
      "unknown widths : \n",
      "[0, IndirectObject(198, 0, 2735440260400)]\n",
      "unknown widths : \n",
      "[0, IndirectObject(201, 0, 2735440260400)]\n",
      "unknown widths : \n",
      "[0, IndirectObject(204, 0, 2735440260400)]\n",
      "unknown widths : \n",
      "[0, IndirectObject(211, 0, 2735440260400)]\n",
      "unknown widths : \n",
      "[0, IndirectObject(95, 0, 2735541619248)]\n",
      "unknown widths : \n",
      "[0, IndirectObject(99, 0, 2735541619248)]\n",
      "unknown widths : \n",
      "[0, IndirectObject(103, 0, 2735541619248)]\n",
      "unknown widths : \n",
      "[0, IndirectObject(107, 0, 2735541619248)]\n",
      "unknown widths : \n",
      "[0, IndirectObject(111, 0, 2735541619248)]\n",
      "unknown widths : \n",
      "[0, IndirectObject(115, 0, 2735541619248)]\n",
      "unknown widths : \n",
      "[0, IndirectObject(119, 0, 2735541619248)]\n",
      "unknown widths : \n",
      "[0, IndirectObject(123, 0, 2735541619248)]\n",
      "unknown widths : \n",
      "[0, IndirectObject(127, 0, 2735541619248)]\n",
      "unknown widths : \n",
      "[0, IndirectObject(131, 0, 2735541619248)]\n",
      "unknown widths : \n",
      "[0, IndirectObject(135, 0, 2735541619248)]\n",
      "unknown widths : \n",
      "[0, IndirectObject(49, 0, 2735464231792)]\n",
      "unknown widths : \n",
      "[0, IndirectObject(52, 0, 2735464231792)]\n",
      "unknown widths : \n",
      "[0, IndirectObject(55, 0, 2735464231792)]\n"
     ]
    }
   ],
   "source": [
    "get_court_cases(packages_request_dict, text_df)"
   ]
  },
  {
   "cell_type": "markdown",
   "id": "d7acca19",
   "metadata": {},
   "source": [
    "Given CSV of all Federal Court cases from Jan 1, 2022 to today April 7, 2023"
   ]
  },
  {
   "cell_type": "code",
   "execution_count": 53,
   "id": "e726a557",
   "metadata": {},
   "outputs": [
    {
     "data": {
      "text/html": [
       "<div>\n",
       "<style scoped>\n",
       "    .dataframe tbody tr th:only-of-type {\n",
       "        vertical-align: middle;\n",
       "    }\n",
       "\n",
       "    .dataframe tbody tr th {\n",
       "        vertical-align: top;\n",
       "    }\n",
       "\n",
       "    .dataframe thead th {\n",
       "        text-align: right;\n",
       "    }\n",
       "</style>\n",
       "<table border=\"1\" class=\"dataframe\">\n",
       "  <thead>\n",
       "    <tr style=\"text-align: right;\">\n",
       "      <th></th>\n",
       "      <th>title</th>\n",
       "      <th>text</th>\n",
       "    </tr>\n",
       "  </thead>\n",
       "  <tbody>\n",
       "    <tr>\n",
       "      <th>0</th>\n",
       "      <td>Pharmaceutical Research v. Stuart Williams, et al</td>\n",
       "      <td>United States Court of Appeals  \\nFor The Eigh...</td>\n",
       "    </tr>\n",
       "    <tr>\n",
       "      <th>1</th>\n",
       "      <td>Mirabella v. Town of Lexington, MA, et al</td>\n",
       "      <td>United States Court of Appeals  \\nFor the Fir...</td>\n",
       "    </tr>\n",
       "    <tr>\n",
       "      <th>2</th>\n",
       "      <td>Andrade-Prado, Jr. v. Garland</td>\n",
       "      <td>United States Court of Appeals  \\nFor the Fir...</td>\n",
       "    </tr>\n",
       "    <tr>\n",
       "      <th>3</th>\n",
       "      <td>USA v. Jose Hodge</td>\n",
       "      <td>NOT PRECEDENTIAL \\n \\nUNITED STATES COURT OF A...</td>\n",
       "    </tr>\n",
       "    <tr>\n",
       "      <th>4</th>\n",
       "      <td>W. R. R. v. Attorney General United States</td>\n",
       "      <td>\\n NOT PRECEDENTIAL  \\n \\nUNITED STATES COURT...</td>\n",
       "    </tr>\n",
       "    <tr>\n",
       "      <th>...</th>\n",
       "      <td>...</td>\n",
       "      <td>...</td>\n",
       "    </tr>\n",
       "    <tr>\n",
       "      <th>16593</th>\n",
       "      <td>Nicholas Stover v. Amazon.com, LLC, et al</td>\n",
       "      <td>\\n \\nNOT RECOMMENDED FOR PUBLICATION  \\nFile ...</td>\n",
       "    </tr>\n",
       "    <tr>\n",
       "      <th>16594</th>\n",
       "      <td>Randy Coley v. DIRECTV, Inc.</td>\n",
       "      <td>PUBLISHED  \\n \\nUNITED STATES COURT OF APPEALS...</td>\n",
       "    </tr>\n",
       "    <tr>\n",
       "      <th>16595</th>\n",
       "      <td>US v. Wincy Joseph</td>\n",
       "      <td>UNPUBLISHED  \\n \\nUNITED STATES COURT OF APPEA...</td>\n",
       "    </tr>\n",
       "    <tr>\n",
       "      <th>16596</th>\n",
       "      <td>US v. Antonio Davis</td>\n",
       "      <td>UNPUBLISHED  \\n \\nUNITED STATES COURT OF APPEA...</td>\n",
       "    </tr>\n",
       "    <tr>\n",
       "      <th>16597</th>\n",
       "      <td>Flores v. Hartnett</td>\n",
       "      <td>\\nUnited States Court of  Appeals  \\nfor the ...</td>\n",
       "    </tr>\n",
       "  </tbody>\n",
       "</table>\n",
       "<p>16598 rows × 2 columns</p>\n",
       "</div>"
      ],
      "text/plain": [
       "                                                   title  \\\n",
       "0      Pharmaceutical Research v. Stuart Williams, et al   \n",
       "1              Mirabella v. Town of Lexington, MA, et al   \n",
       "2                          Andrade-Prado, Jr. v. Garland   \n",
       "3                                      USA v. Jose Hodge   \n",
       "4             W. R. R. v. Attorney General United States   \n",
       "...                                                  ...   \n",
       "16593          Nicholas Stover v. Amazon.com, LLC, et al   \n",
       "16594                       Randy Coley v. DIRECTV, Inc.   \n",
       "16595                                 US v. Wincy Joseph   \n",
       "16596                                US v. Antonio Davis   \n",
       "16597                                 Flores v. Hartnett   \n",
       "\n",
       "                                                    text  \n",
       "0      United States Court of Appeals  \\nFor The Eigh...  \n",
       "1       United States Court of Appeals  \\nFor the Fir...  \n",
       "2       United States Court of Appeals  \\nFor the Fir...  \n",
       "3      NOT PRECEDENTIAL \\n \\nUNITED STATES COURT OF A...  \n",
       "4       \\n NOT PRECEDENTIAL  \\n \\nUNITED STATES COURT...  \n",
       "...                                                  ...  \n",
       "16593   \\n \\nNOT RECOMMENDED FOR PUBLICATION  \\nFile ...  \n",
       "16594  PUBLISHED  \\n \\nUNITED STATES COURT OF APPEALS...  \n",
       "16595  UNPUBLISHED  \\n \\nUNITED STATES COURT OF APPEA...  \n",
       "16596  UNPUBLISHED  \\n \\nUNITED STATES COURT OF APPEA...  \n",
       "16597   \\nUnited States Court of  Appeals  \\nfor the ...  \n",
       "\n",
       "[16598 rows x 2 columns]"
      ]
     },
     "execution_count": 53,
     "metadata": {},
     "output_type": "execute_result"
    }
   ],
   "source": [
    "text_df"
   ]
  },
  {
   "cell_type": "code",
   "execution_count": 54,
   "id": "2a35e2ec",
   "metadata": {},
   "outputs": [],
   "source": [
    "# Save to CSV\n",
    "text_df.to_csv('C:\\\\Users\\\\mjjyo\\\\OneDrive\\\\Desktop\\\\precedent\\\\2022_federal_cases.csv')"
   ]
  },
  {
   "cell_type": "code",
   "execution_count": 59,
   "id": "c9970ae2",
   "metadata": {},
   "outputs": [],
   "source": [
    "# text_df.loc[16597]['text']"
   ]
  },
  {
   "cell_type": "code",
   "execution_count": null,
   "id": "825cd545",
   "metadata": {},
   "outputs": [],
   "source": []
  }
 ],
 "metadata": {
  "kernelspec": {
   "display_name": "Python 3 (ipykernel)",
   "language": "python",
   "name": "python3"
  },
  "language_info": {
   "codemirror_mode": {
    "name": "ipython",
    "version": 3
   },
   "file_extension": ".py",
   "mimetype": "text/x-python",
   "name": "python",
   "nbconvert_exporter": "python",
   "pygments_lexer": "ipython3",
   "version": "3.9.13"
  }
 },
 "nbformat": 4,
 "nbformat_minor": 5
}
