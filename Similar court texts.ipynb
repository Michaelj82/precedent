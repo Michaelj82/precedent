{
 "cells": [
  {
   "cell_type": "code",
   "execution_count": 108,
   "id": "61008487",
   "metadata": {},
   "outputs": [],
   "source": [
    "import pandas as pd\n",
    "import numpy as np\n",
    "import re\n",
    "from sklearn.feature_extraction.text import TfidfVectorizer\n"
   ]
  },
  {
   "cell_type": "code",
   "execution_count": 109,
   "id": "5fa3988e",
   "metadata": {},
   "outputs": [],
   "source": [
    "file = pd.read_csv('C:\\\\Users\\\\mjjyo\\\\OneDrive\\\\Desktop\\\\precedent\\\\2022_federal_cases.csv')"
   ]
  },
  {
   "cell_type": "code",
   "execution_count": 111,
   "id": "74886995",
   "metadata": {},
   "outputs": [
    {
     "data": {
      "text/html": [
       "<div>\n",
       "<style scoped>\n",
       "    .dataframe tbody tr th:only-of-type {\n",
       "        vertical-align: middle;\n",
       "    }\n",
       "\n",
       "    .dataframe tbody tr th {\n",
       "        vertical-align: top;\n",
       "    }\n",
       "\n",
       "    .dataframe thead th {\n",
       "        text-align: right;\n",
       "    }\n",
       "</style>\n",
       "<table border=\"1\" class=\"dataframe\">\n",
       "  <thead>\n",
       "    <tr style=\"text-align: right;\">\n",
       "      <th></th>\n",
       "      <th>Unnamed: 0</th>\n",
       "      <th>title</th>\n",
       "      <th>text</th>\n",
       "    </tr>\n",
       "  </thead>\n",
       "  <tbody>\n",
       "    <tr>\n",
       "      <th>0</th>\n",
       "      <td>0</td>\n",
       "      <td>Pharmaceutical Research v. Stuart Williams, et al</td>\n",
       "      <td>United States Court of Appeals  \\nFor The Eigh...</td>\n",
       "    </tr>\n",
       "    <tr>\n",
       "      <th>1</th>\n",
       "      <td>1</td>\n",
       "      <td>Mirabella v. Town of Lexington, MA, et al</td>\n",
       "      <td>United States Court of Appeals  \\nFor the Fir...</td>\n",
       "    </tr>\n",
       "    <tr>\n",
       "      <th>2</th>\n",
       "      <td>2</td>\n",
       "      <td>Andrade-Prado, Jr. v. Garland</td>\n",
       "      <td>United States Court of Appeals  \\nFor the Fir...</td>\n",
       "    </tr>\n",
       "    <tr>\n",
       "      <th>3</th>\n",
       "      <td>3</td>\n",
       "      <td>USA v. Jose Hodge</td>\n",
       "      <td>NOT PRECEDENTIAL \\n \\nUNITED STATES COURT OF A...</td>\n",
       "    </tr>\n",
       "    <tr>\n",
       "      <th>4</th>\n",
       "      <td>4</td>\n",
       "      <td>W. R. R. v. Attorney General United States</td>\n",
       "      <td>\\n NOT PRECEDENTIAL  \\n \\nUNITED STATES COURT...</td>\n",
       "    </tr>\n",
       "    <tr>\n",
       "      <th>...</th>\n",
       "      <td>...</td>\n",
       "      <td>...</td>\n",
       "      <td>...</td>\n",
       "    </tr>\n",
       "    <tr>\n",
       "      <th>16593</th>\n",
       "      <td>16593</td>\n",
       "      <td>Nicholas Stover v. Amazon.com, LLC, et al</td>\n",
       "      <td>\\n \\nNOT RECOMMENDED FOR PUBLICATION  \\nFile ...</td>\n",
       "    </tr>\n",
       "    <tr>\n",
       "      <th>16594</th>\n",
       "      <td>16594</td>\n",
       "      <td>Randy Coley v. DIRECTV, Inc.</td>\n",
       "      <td>PUBLISHED  \\n \\nUNITED STATES COURT OF APPEALS...</td>\n",
       "    </tr>\n",
       "    <tr>\n",
       "      <th>16595</th>\n",
       "      <td>16595</td>\n",
       "      <td>US v. Wincy Joseph</td>\n",
       "      <td>UNPUBLISHED  \\n \\nUNITED STATES COURT OF APPEA...</td>\n",
       "    </tr>\n",
       "    <tr>\n",
       "      <th>16596</th>\n",
       "      <td>16596</td>\n",
       "      <td>US v. Antonio Davis</td>\n",
       "      <td>UNPUBLISHED  \\n \\nUNITED STATES COURT OF APPEA...</td>\n",
       "    </tr>\n",
       "    <tr>\n",
       "      <th>16597</th>\n",
       "      <td>16597</td>\n",
       "      <td>Flores v. Hartnett</td>\n",
       "      <td>\\nUnited States Court of  Appeals  \\nfor the ...</td>\n",
       "    </tr>\n",
       "  </tbody>\n",
       "</table>\n",
       "<p>16598 rows × 3 columns</p>\n",
       "</div>"
      ],
      "text/plain": [
       "       Unnamed: 0                                              title  \\\n",
       "0               0  Pharmaceutical Research v. Stuart Williams, et al   \n",
       "1               1          Mirabella v. Town of Lexington, MA, et al   \n",
       "2               2                      Andrade-Prado, Jr. v. Garland   \n",
       "3               3                                  USA v. Jose Hodge   \n",
       "4               4         W. R. R. v. Attorney General United States   \n",
       "...           ...                                                ...   \n",
       "16593       16593          Nicholas Stover v. Amazon.com, LLC, et al   \n",
       "16594       16594                       Randy Coley v. DIRECTV, Inc.   \n",
       "16595       16595                                 US v. Wincy Joseph   \n",
       "16596       16596                                US v. Antonio Davis   \n",
       "16597       16597                                 Flores v. Hartnett   \n",
       "\n",
       "                                                    text  \n",
       "0      United States Court of Appeals  \\nFor The Eigh...  \n",
       "1       United States Court of Appeals  \\nFor the Fir...  \n",
       "2       United States Court of Appeals  \\nFor the Fir...  \n",
       "3      NOT PRECEDENTIAL \\n \\nUNITED STATES COURT OF A...  \n",
       "4       \\n NOT PRECEDENTIAL  \\n \\nUNITED STATES COURT...  \n",
       "...                                                  ...  \n",
       "16593   \\n \\nNOT RECOMMENDED FOR PUBLICATION  \\nFile ...  \n",
       "16594  PUBLISHED  \\n \\nUNITED STATES COURT OF APPEALS...  \n",
       "16595  UNPUBLISHED  \\n \\nUNITED STATES COURT OF APPEA...  \n",
       "16596  UNPUBLISHED  \\n \\nUNITED STATES COURT OF APPEA...  \n",
       "16597   \\nUnited States Court of  Appeals  \\nfor the ...  \n",
       "\n",
       "[16598 rows x 3 columns]"
      ]
     },
     "execution_count": 111,
     "metadata": {},
     "output_type": "execute_result"
    }
   ],
   "source": [
    "file"
   ]
  },
  {
   "cell_type": "code",
   "execution_count": 115,
   "id": "3fcb654d",
   "metadata": {},
   "outputs": [],
   "source": [
    "complete_file = file.drop(['Unnamed: 0'], axis=1)"
   ]
  },
  {
   "cell_type": "code",
   "execution_count": 116,
   "id": "d89f6f58",
   "metadata": {},
   "outputs": [
    {
     "data": {
      "text/html": [
       "<div>\n",
       "<style scoped>\n",
       "    .dataframe tbody tr th:only-of-type {\n",
       "        vertical-align: middle;\n",
       "    }\n",
       "\n",
       "    .dataframe tbody tr th {\n",
       "        vertical-align: top;\n",
       "    }\n",
       "\n",
       "    .dataframe thead th {\n",
       "        text-align: right;\n",
       "    }\n",
       "</style>\n",
       "<table border=\"1\" class=\"dataframe\">\n",
       "  <thead>\n",
       "    <tr style=\"text-align: right;\">\n",
       "      <th></th>\n",
       "      <th>title</th>\n",
       "      <th>text</th>\n",
       "    </tr>\n",
       "  </thead>\n",
       "  <tbody>\n",
       "    <tr>\n",
       "      <th>0</th>\n",
       "      <td>Pharmaceutical Research v. Stuart Williams, et al</td>\n",
       "      <td>United States Court of Appeals  \\nFor The Eigh...</td>\n",
       "    </tr>\n",
       "    <tr>\n",
       "      <th>1</th>\n",
       "      <td>Mirabella v. Town of Lexington, MA, et al</td>\n",
       "      <td>United States Court of Appeals  \\nFor the Fir...</td>\n",
       "    </tr>\n",
       "    <tr>\n",
       "      <th>2</th>\n",
       "      <td>Andrade-Prado, Jr. v. Garland</td>\n",
       "      <td>United States Court of Appeals  \\nFor the Fir...</td>\n",
       "    </tr>\n",
       "    <tr>\n",
       "      <th>3</th>\n",
       "      <td>USA v. Jose Hodge</td>\n",
       "      <td>NOT PRECEDENTIAL \\n \\nUNITED STATES COURT OF A...</td>\n",
       "    </tr>\n",
       "    <tr>\n",
       "      <th>4</th>\n",
       "      <td>W. R. R. v. Attorney General United States</td>\n",
       "      <td>\\n NOT PRECEDENTIAL  \\n \\nUNITED STATES COURT...</td>\n",
       "    </tr>\n",
       "    <tr>\n",
       "      <th>...</th>\n",
       "      <td>...</td>\n",
       "      <td>...</td>\n",
       "    </tr>\n",
       "    <tr>\n",
       "      <th>16593</th>\n",
       "      <td>Nicholas Stover v. Amazon.com, LLC, et al</td>\n",
       "      <td>\\n \\nNOT RECOMMENDED FOR PUBLICATION  \\nFile ...</td>\n",
       "    </tr>\n",
       "    <tr>\n",
       "      <th>16594</th>\n",
       "      <td>Randy Coley v. DIRECTV, Inc.</td>\n",
       "      <td>PUBLISHED  \\n \\nUNITED STATES COURT OF APPEALS...</td>\n",
       "    </tr>\n",
       "    <tr>\n",
       "      <th>16595</th>\n",
       "      <td>US v. Wincy Joseph</td>\n",
       "      <td>UNPUBLISHED  \\n \\nUNITED STATES COURT OF APPEA...</td>\n",
       "    </tr>\n",
       "    <tr>\n",
       "      <th>16596</th>\n",
       "      <td>US v. Antonio Davis</td>\n",
       "      <td>UNPUBLISHED  \\n \\nUNITED STATES COURT OF APPEA...</td>\n",
       "    </tr>\n",
       "    <tr>\n",
       "      <th>16597</th>\n",
       "      <td>Flores v. Hartnett</td>\n",
       "      <td>\\nUnited States Court of  Appeals  \\nfor the ...</td>\n",
       "    </tr>\n",
       "  </tbody>\n",
       "</table>\n",
       "<p>16598 rows × 2 columns</p>\n",
       "</div>"
      ],
      "text/plain": [
       "                                                   title  \\\n",
       "0      Pharmaceutical Research v. Stuart Williams, et al   \n",
       "1              Mirabella v. Town of Lexington, MA, et al   \n",
       "2                          Andrade-Prado, Jr. v. Garland   \n",
       "3                                      USA v. Jose Hodge   \n",
       "4             W. R. R. v. Attorney General United States   \n",
       "...                                                  ...   \n",
       "16593          Nicholas Stover v. Amazon.com, LLC, et al   \n",
       "16594                       Randy Coley v. DIRECTV, Inc.   \n",
       "16595                                 US v. Wincy Joseph   \n",
       "16596                                US v. Antonio Davis   \n",
       "16597                                 Flores v. Hartnett   \n",
       "\n",
       "                                                    text  \n",
       "0      United States Court of Appeals  \\nFor The Eigh...  \n",
       "1       United States Court of Appeals  \\nFor the Fir...  \n",
       "2       United States Court of Appeals  \\nFor the Fir...  \n",
       "3      NOT PRECEDENTIAL \\n \\nUNITED STATES COURT OF A...  \n",
       "4       \\n NOT PRECEDENTIAL  \\n \\nUNITED STATES COURT...  \n",
       "...                                                  ...  \n",
       "16593   \\n \\nNOT RECOMMENDED FOR PUBLICATION  \\nFile ...  \n",
       "16594  PUBLISHED  \\n \\nUNITED STATES COURT OF APPEALS...  \n",
       "16595  UNPUBLISHED  \\n \\nUNITED STATES COURT OF APPEA...  \n",
       "16596  UNPUBLISHED  \\n \\nUNITED STATES COURT OF APPEA...  \n",
       "16597   \\nUnited States Court of  Appeals  \\nfor the ...  \n",
       "\n",
       "[16598 rows x 2 columns]"
      ]
     },
     "execution_count": 116,
     "metadata": {},
     "output_type": "execute_result"
    }
   ],
   "source": [
    "complete_file"
   ]
  },
  {
   "cell_type": "code",
   "execution_count": 95,
   "id": "0c1bc83c",
   "metadata": {},
   "outputs": [
    {
     "name": "stderr",
     "output_type": "stream",
     "text": [
      "[nltk_data] Downloading package punkt to\n",
      "[nltk_data]     C:\\Users\\mjjyo\\AppData\\Roaming\\nltk_data...\n",
      "[nltk_data]   Package punkt is already up-to-date!\n",
      "[nltk_data] Downloading package stopwords to\n",
      "[nltk_data]     C:\\Users\\mjjyo\\AppData\\Roaming\\nltk_data...\n",
      "[nltk_data]   Package stopwords is already up-to-date!\n"
     ]
    }
   ],
   "source": [
    "import nltk\n",
    "from nltk.corpus import stopwords\n",
    "from nltk.tokenize import word_tokenize\n",
    "from nltk.stem import PorterStemmer\n",
    "import string\n",
    "\n",
    "nltk.download('punkt')\n",
    "nltk.download('stopwords')\n",
    "\n",
    "stop_words = set(stopwords.words('english'))\n",
    "stemmer = PorterStemmer()\n",
    "\n",
    "def preprocess_text(text):\n",
    "    final_text = []\n",
    "    \n",
    "    for item in text:\n",
    "        # Tokenize the text\n",
    "        tokens = word_tokenize(item.lower())\n",
    "\n",
    "        # Remove stop words and punctuations\n",
    "        tokens = [token for token in tokens if token not in stop_words and token not in string.punctuation]\n",
    "\n",
    "        # Stem the tokens\n",
    "        tokens = [stemmer.stem(token) for token in tokens]\n",
    "\n",
    "        # Join the tokens back to form the text\n",
    "        words = \" \".join(tokens)\n",
    "\n",
    "        final_text.append(words)\n",
    "    return final_text"
   ]
  },
  {
   "cell_type": "code",
   "execution_count": 96,
   "id": "64eab483",
   "metadata": {},
   "outputs": [],
   "source": [
    "# User Query\n",
    "user_input = \"music copyright\""
   ]
  },
  {
   "cell_type": "code",
   "execution_count": 97,
   "id": "1efb5c81",
   "metadata": {},
   "outputs": [],
   "source": [
    "from sklearn.feature_extraction.text import TfidfVectorizer\n",
    "from sklearn.metrics.pairwise import cosine_similarity"
   ]
  },
  {
   "cell_type": "code",
   "execution_count": 99,
   "id": "93af6e9c",
   "metadata": {},
   "outputs": [],
   "source": [
    "# Vectorize the court case texts\n",
    "vectorizer = TfidfVectorizer(stop_words='english')\n",
    "corpus = preprocess_text(complete_file['text'])"
   ]
  },
  {
   "cell_type": "code",
   "execution_count": 100,
   "id": "bf7f0049",
   "metadata": {},
   "outputs": [],
   "source": [
    "# Vectorize the corpus\n",
    "vectorized_corpus = vectorizer.fit_transform(corpus)"
   ]
  },
  {
   "cell_type": "code",
   "execution_count": 101,
   "id": "bab0be39",
   "metadata": {},
   "outputs": [],
   "source": [
    "# Vectorize the user input\n",
    "user_input_vectorized = vectorizer.transform([user_input])"
   ]
  },
  {
   "cell_type": "code",
   "execution_count": 102,
   "id": "f6a3a882",
   "metadata": {},
   "outputs": [],
   "source": [
    "# Calculate the cosine similarity between the user input and the court case texts\n",
    "similarity = cosine_similarity(user_input_vectorized, vectorized_corpus)"
   ]
  },
  {
   "cell_type": "code",
   "execution_count": 103,
   "id": "919d326e",
   "metadata": {},
   "outputs": [],
   "source": [
    "# Get the indices of the top matching court cases\n",
    "top_matches = similarity.argsort(axis=1)[0][::-1][:10]"
   ]
  },
  {
   "cell_type": "code",
   "execution_count": 104,
   "id": "53468660",
   "metadata": {},
   "outputs": [
    {
     "name": "stdout",
     "output_type": "stream",
     "text": [
      "2645             Willia Dean Parker, et al v. Sarah Hinton\n",
      "14229         Marcus Gray, et al v. Katheryn Hudson, et al\n",
      "86        SAS Institute, Inc. v. World Programming Limited\n",
      "7015     Joe Hand Promotions, Inc. v. James Griffith, J...\n",
      "6365                            ABKCO Music, Inc. v. Sagan\n",
      "6366                            ABKCO Music, Inc. v. Sagan\n",
      "6364                            ABKCO Music, Inc. v. Sagan\n",
      "10043                                         US v. Gordon\n",
      "6326                      Melendez v. Sirius XM Radio Inc.\n",
      "5355           Unicolors, Inc. v. H&M Hennes & Mauritz, LP\n",
      "Name: title, dtype: object\n"
     ]
    }
   ],
   "source": [
    "# Get the titles of the top matching court cases\n",
    "titles = complete_file.iloc[top_matches]['title']\n",
    "\n",
    "print(titles)"
   ]
  },
  {
   "cell_type": "code",
   "execution_count": 117,
   "id": "1c8dc721",
   "metadata": {},
   "outputs": [
    {
     "data": {
      "text/plain": [
       "'FOR PUBLICATION \\n \\nUNITED STATES COURT OF APPEALS  \\nFOR THE NINTH CIRCUIT  \\n \\n \\nMarcus Gray , PKA Flame; \\nEMANUEL LAMBERT ; CHIKE \\nOJUKWU , \\nPlaintiffs -Appellants , \\n \\nv. \\n K\\nATHERYN ELIZABETH HUDSON , \\nPKA Katy Perry; J ORDAN HOUSTON , \\nPKA Juicy J; L UKASZ GOTTWALD , \\nPKA Dr. Luke; S ARAH THERESA \\nHUDSON ; KARL MARTIN SANDBERG , \\nPKA Max Martin; H ENRY RUSSELL \\nWALTER , PKA Cirkut; K ASZ \\nMONEY , INC.; CAPITOL RECORDS , \\nLLC;  WB  MUSIC CORP.; KOBALT \\nMUSIC PUBLISHING AMERICA , INC., \\nDefendants -Appellees.   No. 20-55401  \\n \\nD.C. No. \\n2:15- cv-05642-\\nCAS -JC \\n  \\nOPINION  \\n \\nAppeal from the United States District Court \\nfor the Central District of California  \\nChristina A. Snyder, District Judge, Presiding \\n \\nArgued and Submitted January 11, 2022  \\nPasadena, California  \\n \\nFiled March 10, 2022  \\n Case: 20-55401, 03/10/2022, ID: 12391170, DktEntry: 95-1, Page 1 of 26 2 GRAY V . HUDSON  \\n \\nBefore:  RICHARD R. CLIFTON, MILAN D. SMITH, \\nJR., and PAUL J. WATFORD, Circuit Judges. \\n \\nOpinion by Judge Milan D. Smith, Jr.  \\n \\n \\nSUMMARY* \\n \\n \\nCopyright  \\n \\n The panel affirmed the district court’s order vacating a \\njury’s award of damages for copyright infringement and granting judgment as a matter of law to Katheryn Hudson (pka Katy Perry) and other defendants.  \\n  Christian hip -hop artists  Marcus Gray (pka Flame), \\nEmanuel Lambert, and Chike Ojukwu claimed that an ostinato, or repeating instrumental figure, in Hudson’s song “Dark Horse” copied a similar ostinato in plaintiffs’ song “Joyful Noise.”  \\n  The panel held that copyright law protects  musical works \\nonly to the extent that they are “original works of authorship.”  The panel concluded that the ostinatos at issue here consisted entirely of commonplace musical elements, and the similarities between them did not arise out of an original com bination of these elements.  Consequently, the \\njury’s verdict finding defendants liable for copyright infringement was unsupported by the evidence because plaintiffs failed to put forward legally sufficient evidence \\n \\n* This summary constitutes no part of the opinion of the court.  It \\nhas been prepared by court staff for the convenience of the reader.  Case: 20-55401, 03/10/2022, ID: 12391170, DktEntry: 95-1, Page 2 of 26  GRAY V . HUDSON  3 \\n \\nthat Joyful Noise and Dark Horse were extrinsically similar \\nworks with respect to any musical features protectible under copyright law.  \\n \\n \\nCOUNSEL  \\n Michael A. Kahn  (argued) , Capes Sokol, Clayton, Missouri , \\nfor Plaintiffs -Appellants.  \\n Vincent H. Chieffo  (argued) , Greenberg Traurig LLP, \\nCalifornia , for Defendant -Appellee Katheryn Elizabeth \\nHudson.  Christine Lepera (argued), Jeffrey M. Movit, Jacob D. Albertson, and J. Matthew Williams, Mitchell Silberberg & Knupp LLP, New York, New York; Aaron M. Wais and Gabriella A. Nourafchan, Mitchel l Silberberg & Knupp \\nLLP, Los Angeles, California; for Defendants -Appellants \\nLukasz Gottwald, Sarah Theresa Hudson, Karl Martin \\nSandberg, Henry Russell Walter, Kasz Money Inc., Capitol \\nRecords LLC , WB Music Corp., and Kobalt Music \\nPublishing America Inc.  \\n John G. Snow , King Holmes Paterno & Soriano LLP, Los \\nAngeles, California , for Defendant -Appellee  Jordan \\nHouston.  Eugene Volokh, Los Angeles, California , for Amici Curiae \\nRecording Industry Association of America Inc., and National Music Publishers’ Associ ation . \\n Case: 20-55401, 03/10/2022, ID: 12391170, DktEntry: 95-1, Page 3 of 26 4 GRAY V . HUDSON  \\n \\nAnjani Mandavia and David L. Burg, Mandavia Ephraim & \\nBurg LLP, Los Angeles, California, for Amicus Curiae Motion Picture Association Inc.  \\n Kenneth D. Freundlich, Freundlich Law, Encino, California , \\nfor Amicus Curiae Musicologists.  \\n Edwin F. McPherson , McPherson LLP, Los Angeles, \\nCalifornia , for Amici Curiae 110 Individual Songwriters, \\nComposers, Musicians, Producers, Music Publishers, and Other Music Industry Professionals; Nashville Songwriters Association International;  and Music Artists Co alition.  \\n \\n \\nOPINION  \\nM. SMITH, Circuit Judge:  \\nPlaintiffs Marcus Gray (pka Flame), Emanuel Lambert, \\nand Chike Ojukwu are Christian hip- hop artists who have \\nsued Katheryn Hudson (pka Katy Perry), Capitol Records LLC, and several other defendants for copyright infringement.  They claim that a repeating instrumental figure —in musical terms, an ostinato —in Hudson’s song \\n“Dark Horse” copied a similar ostinato in plaintiffs’ song “Joyful Noise.”  After a trial centering around the testimony of musical experts, a jur y found defendants liable for \\ncopyright infringement and awarded $2.8 million in damages.  The district court vacated the jury award and granted judgment as a matter of law to defendants, concluding principally that the evidence at trial was legally insuff icient to show that the Joyful Noise ostinato was \\ncopyrightable original expression. Case: 20-55401, 03/10/2022, ID: 12391170, DktEntry: 95-1, Page 4 of 26  GRAY V . HUDSON  5 \\n \\nWe affirm.  Copyright law protects “musical works” \\nonly to the extent that they are “original works of \\nauthorship.”  17 U.S.C. § 102(a).  The trial record compels us to conclude that the ostinatos at issue here consist entirely of commonplace musical elements, and that the similarities between them do not arise out of an original combination of these elements.  Consequently, the jury’s verdict finding defendants liable for copyright infringement was unsupported by the evidence.\\n1 \\nBACKGROUND \\nI. Musical Background  \\nWe begin by briefly explaining some vocabulary that we \\nrely on throughout this opinion.  A musical scale is essentially a sequence of musical notes or tones ordered by pitch (i.e., how “low” or “high” each note is).  To illustrate this concept, a standard piano or keyboard instrument has white and black keys organized in a twelve -key repeating \\npattern.  If one starts with any key on the piano and plays twelve white an d black keys in order from left to right, she \\nwill have played all the notes of the “chromatic” scale in ascending order.  That ordered sequence of twelve notes —\\nwhich repeats itself at higher and lower registers across the \\n \\n1 We accept the amicus briefs submitted by (1)  the Recording \\nIndustry Association of America and the National Music Publishers ’ \\nAssociation,  (2) the Motion Picture Association,  (3) a group of 110 \\nindividual songwriters and other music industry professionals , along \\nwith Nashville Songwriters Associatio n International and Music Arts \\nCoalition, and (4)  a group of musicologists.   See  Dkt. Nos. 51, 54, 56, \\n58.  We deny  as moot defendants’ motion to strike material from \\nplaintiffs’ opening brief, Dkt. No. 29, because we conclude that even if \\nwe were to consi der the purportedly improper material, we would still \\ndecide this case in defendants’ favor for the same reasons given in this \\nopinion.  Case: 20-55401, 03/10/2022, ID: 12391170, DktEntry: 95-1, Page 5 of 26 6 GRAY V . HUDSON  \\n \\nkeyboard—can be thought of as the  musical equivalent of an \\nartist’s coloring palette, as one can rearrange these notes into \\nmore complex sequences and add rhythmic (i.e., durational) variety to create memorable tunes.  \\nIn practice, many songs are based on scales that use only \\na smaller sub set of the twelve notes in the chromatic scale.  \\nThese scales have different names depending on which notes are chosen.  The scale we are primarily concerned with today has seven notes and is called the “minor” scale.\\n2 \\nAs with other scales, the notes in t he minor scale can be \\nreferred to with alphabetic names (A, B, C, etc.), but the parties have generally opted to refer to them with numerical \\ndegrees indicating each note’s ordered position in the scale.  \\nWe agree that is the more convenient approach here.   The \\nimage below, taken from the beginning of defendants’ \\nanswering brief , illustrates how numerical scale degrees \\ncorrespond to different keys on a piano in the minor scale\\n3 \\n(the image begins with the third note of the scale on the far \\nleft rather than the first note —as discussed, the notes on a \\npiano repeat themselves every twelve keys in different pitch registers):  \\n \\n2 Our discussion here is slightly oversimplified, as the minor scale \\ncomes in three distinct forms.  However, the differ ences between those \\nversions are not material to resolving this case.  Likewise, we do not find \\nit necessary for present purposes to distinguish between the concept of a “scale” and the related concept of a “mode,” which is also mentioned in \\nthe parties’ b riefing.  \\n3 Specifically, the image corresponds to the natural minor scale in \\nthe key of A, which uses only the white keys on a keyboard.  Case: 20-55401, 03/10/2022, ID: 12391170, DktEntry: 95-1, Page 6 of 26  GRAY V . HUDSON  7 \\n \\nII. Factual Background  \\nIn 2007, plaintiff Ojukwu recorded a simple tune using a \\nfree music website.  He later sold it to plaintiff Gray, who \\nused it as an ostinato (i.e., a repeating musical figure) for Joyful Noise.  A recording of Joyful Noise first appeared in the album Our W orld Redeemed  in 2008.  While Joyful \\nNoise did not achieve significant commercial success or playtime on the radio, it received millions of views on YouTube and Gray’s MySpace page.  Our World Redeemed  \\nwas also nominated for a Grammy award in the “Best Roc k \\nor Rap Gospel Album” category in 2009.  \\nDefendants created Dark Horse in 2013.  Hudson’s trial \\ntestimony was that she met with two of her co- defendants at \\na recording studio and sampled several short musical fragments to consider using in a new song.  The  segment \\nHudson responded to most positively became the ostinato for Dark Horse.  Dark Horse was first released on the album Prism  along with several other tracks.  It was a hit, resulting \\nin a music video and a performance by Hudson at the Super Bowl half time show in 2015. \\nThe following features of the two ostinatos are \\nundisputed.  Both ostinatos are based on the minor scale (although they are in different keys, meaning that they treat \\n Case: 20-55401, 03/10/2022, ID: 12391170, DktEntry: 95-1, Page 7 of 26 8 GRAY V . HUDSON  \\n \\ndifferent notes —i.e., keys on a piano—as the first note of the \\nscale).  The Dark Horse os tinato is made up of eight notes \\n(sixteen, when repeated) which correspond to the minor \\nscale degrees 3 -3-3-3-2-2-1-5, while the Joyful Noise \\nostinato is made up of two slightly different eight -note \\nfigures (sixteen notes when combined) that correspond to the minor scale degrees 3 -3-3-3-2-2-2-1/6 (in other words, 3- 3-\\n3-3-2-2-2-1 for the first eight notes, and 3 -3-3-3-2-2-2-6 for \\nthe second eight notes).  So, while each eight -note pattern \\nbegins with 3- 3-3-3-2-2, they differ in the last two notes.  \\nLeaving a side some stylistic embellishment in Joyful Noise \\n(specifically, the use of portamento, or “sliding” between different notes), both ostinatos also rely on a completely uniform rhythm, meaning each note is of equal duration in time.  \\nIII. Trial Proceedings  \\nPlaintiffs filed their operative complaint for copyright \\ninfringement against Hudson and her co- defendants in \\nNovember 2016.  The case proceeded to a bifurcated jury trial taking place from July 17, 2019, to August 1, 2019, with separate phases to determine liability and damages.  Rather \\nthan putting forward direct evidence that defendants had copied elements of Joyful Noise, plaintiffs focused on circumstantial evidence that defendants had a reasonable \\nopportunity to access Joyful Noise and that the ostinat os in \\nboth songs were substantially similar.  For the latter point, in addition to testimony from Hudson and other witnesses, the liability phase of the trial turned largely on testimony by plaintiffs’ expert musicologist, Dr. Todd Decker.  \\nThe heart of Dr.  Decker’s testimony concerned which \\nspecific elements of the ostinatos in Dark Horse and Joyful Noise were similar.  Dr. Decker testified that:  Case: 20-55401, 03/10/2022, ID: 12391170, DktEntry: 95-1, Page 8 of 26  GRAY V . HUDSON  9 \\n \\nThe length of [each] ostinato is similar, eight \\nnotes.  The rhythm of the ostinato is similar.  The melodic cont ent, the scale degrees \\npresent.  The melodic shape so the —the way \\nthe melody moves through musical space.  Similar, the [timbre] or the quality and color of the sound is similar, and the use of the —\\nthe placement of this material, this ostinato, in the musi cal space of the recording in the \\nmix[,] that is also similar.  So that’s five or six points of similarity between the two ostinatos.[\\n4] \\nHowever, Dr. Decker also said that there was “no one single . . . element” that caused him to believe the ostinatos at issue \\nwere “substantially similar” when viewed “in isolation.”  Rather, while “[a]ny single one of those [elements] would not have been enough,” it was “the combination of them” that led Dr. Decker to conclude that Joyful Noise and Dark Horse had substant ially similar ostinatos.  He also admitted \\nthat the ostinatos were different in some respects, though he clarified that he did not think this negated the similarities between them.  \\nThe jury also heard testimony from defendants’ expert, \\nDr. Lawrence Ferrara, who disagreed with Dr. Decker’s assessment that the ostinatos were substantially similar.  He noted the use of different scale degrees at the end of each ostinato, pointing out that Dark Horse has a “leap” from 1 to 5 while Joyful Noise uses “step- wise” motion from 2 to 1 at \\nthe corresponding point in time.  In addition, Dr. Ferrara explained that two well -known songs —“Jolly Old Saint \\n \\n4 Dr. Decker also testified that the ostinatos in Joyful Noise and Dark \\nHorse both used notes that were rhythmically “e ven in value.”  Case: 20-55401, 03/10/2022, ID: 12391170, DktEntry: 95-1, Page 9 of 26 10 GRAY V . HUDSON  \\n \\nNicholas” and “Merrily We Roll Along” (which, as Dr. \\nFerrara noted, has the same tune as “Mary Had a Little Lamb”) —also us e the 3 -3-3-3-2-2 pitch sequence that the \\nDark Horse and Joyful Noise ostinatos share (or a similar 3-3-3-2-2 sequence for Merrily We Roll Along, with the third \\n3 doubled in duration).  This testimony was not refuted (though Dr. Decker dismissed its import ance to the \\nsimilarity inquiry), nor was Dr. Ferrara’s testimony that three other pieces of music predating Joyful Noise also used pitch progressions proceeding from 3 to 2 to 1 played in an even rhythm: “Love Me Or Hate Me” (which was composed by defendant Lukasz Gottwald, pka Dr. Luke), “Brainchild,” and “Choosing Life.”  \\nFor each phase of the trial, the jury was instructed on the \\nlaw and given a special verdict form.  Among other conclusions, the jury found specifically that Dark Horse used protected material from Joyful Noise, that the two songs contained substantially similar copyrightable expression, that defendants had a reasonable opportunity to hear Joyful Noise before composing Dark Horse, and that plaintiffs were entitled to 22.5% of defendants’ ne t profits from Dark Horse, \\nresulting in a total verdict of about $2.8 million in damages.  \\nIV. Post-Trial Motions  \\nAfter the trial, defendants moved for judgment as a \\nmatter of law (JMOL) or, alternatively, for a new trial pursuant to Federal Rule of Civil P rocedure 50(b).  Plaintiffs \\nalso moved for an award of prejudgment interest.  The district court considered these motions simultaneously. \\nThe district court vacated the jury’s verdict and granted \\ndefendants’ JMOL motion.  It denied the parties’ remaining motions as moot, but conditionally granted a new trial and \\ndenied prejudgment interest in the alternative.  See Fed. R. Case: 20-55401, 03/10/2022, ID: 12391170, DktEntry: 95-1, Page 10 of 26  GRAY V . HUDSON  11 \\n \\nCiv. P. 50(c) (allowing this procedure).  As relevant here, the \\ndistrict court’s 32 -page decision rejected all of defendants’ \\nchallenges to the jury verdict except their argument that the \\nostinatos were not substantially similar.  Citing Dr. Decker’s testimony, the district court reasoned that none of the individual points of similarity the expert identified between Dark Horse and Joyful Noise constituted copyrightable original expression.  The district court also did not believe that the combination of these elements constituted original expression.  Alternatively, the district court concluded that this combination merited no more than a “t hin” copyright, \\nwhich is infringed only by “virtually identical” works.  The district court determined that there were enough objective distinctions between the ostinatos such that they were not virtually identical.  \\nPlaintiffs timely appealed.  We review d e novo the \\ndistrict court’s grant of JMOL.  Zamalloa v. Hart , 31 F.3d \\n911, 913 (9th Cir. 1994). \\nANALYSIS  \\nThe operative question is whether a “reasonable jury” \\nwould have had “a legally sufficient evidentiary basis” to conclude that defendants engaged in copyright infringement.  Fed. R. Civ. P. 50(a)(1).  The applicable standards are \\nessentially “the same” as those for a summary judgment motion, Reeves v. Sanderson Plumbing Prods., Inc., 530 \\nU.S. 133, 150 (2000) (quoting Anderson v. Liberty Lobby, Inc., 477 U.S. 242, 251 (1986)), meaning that we “must draw \\nall reasonable inferences” in plaintiffs’ favor, id.   Along \\nthese lines, we “must disregard all evidence favorable to [defendants] that the jury is not required to believe,” but we should also “give credenc e to . . .  evidence supporting \\n[defendants] that is uncontradicted and unimpeached, at least Case: 20-55401, 03/10/2022, ID: 12391170, DktEntry: 95-1, Page 11 of 26 12 GRAY V . HUDSON  \\n \\nto the extent that that evidence comes from disinterested \\nwitnesses.”  Id.  at 151 (cleaned up).  \\nCopyright protection extends only to works that contain \\noriginal expression.  17 U.S.C. § 102(a); Feist Publ’ns, Inc. \\nv. Rural Tel. Serv. Co., 499 U.S. 340, 345 (1991).  “Original, as the term is used in copyright, means only that the work was independently created by the author . . . and that it \\npossesses at least some minimal degree of creativity.”  Feist , \\n499 U.S. at 345.  “To establish [copyright] infringement, two elements must be proven: (1) ownership of a valid copyright, and (2) copying of constituent elements of the work that are original .”  Id.  at 361 (emphasis added).  \\nWe agree with the district court that plaintiffs failed to \\nestablis h copying of any original —and, consequently, \\nprotected —elements of Joyful Noise.  For that reason, we \\naffirm its decision to vacate the jury award and grant JMOL to defendants.  We need not reach any other issue in this case.  \\nI. Legal Framework for Copyright Infringement  \\nBecause plaintiffs did not present any direct evidence \\nthat defendants copied Joyful Noise’s ostinato, they were required to show that (1) defendants had “access” to their \\nwork and (2) the ostinatos in Joyful Noise and Dark Horse “are subst antially similar.”  L.A. Printex Indus., Inc. v. \\nAeropostale, Inc., 676 F.3d 841, 846 (9th Cir. 2012), abrogated on other grounds as recognized by  Unicolors, Inc. \\nv. H&M Hennes & Mauritz, L.P., 959 F.3d 1194, 1198 (9th Cir. 2020); see also  Apple Computer, Inc. v. Microsoft \\nCorp., 35 F.3d 1435, 1442 (9th Cir. 1994) (copying may be shown through “circumstantial evidence of access and substantial similarity”).  We need not address the access prong because we may resolve this case based on the Case: 20-55401, 03/10/2022, ID: 12391170, DktEntry: 95-1, Page 12 of 26  GRAY V . HUDSON  13 \\n \\n“substantially similar” prong.  For that requirement, we have \\n“traditionally determined whether copying sufficient to constitute infringement has taken place under a two- part test \\nhaving ‘extrinsic’ and ‘intrinsic’ components.”  Apple , 35 \\nF.3d at 1442.  “Both tests must be  satisfied for the works to \\nbe deemed substantially similar.”  Skidmore as Tr. for Randy Craig Wolfe Tr. v. Led Zeppelin, 952 F.3d 1051, 1064 (9th Cir. 2020) (en banc).  \\n“The extrinsic test considers whether two works share a \\nsimilarity of ideas and express ion as measured by external, \\nobjective criteria.  The extrinsic test requires . . .  breaking \\nthe works down into their constituent elements, and comparing those elements for proof of copying as measured by substantial similarity.  Because the requirement i s one of \\nsubstantial similarity to protected elements of the copyrighted work, it is essential to distinguish between the protected and unprotected material in a plaintiff’s work.”  Swirsky v. Carey, 376 F.3d 841, 845 (9th Cir. 2004) (cleaned up); accord  Skidmore , 952 F.3d at 1064.  The intrinsic test \\nfocuses on “similarity of expression from the standpoint of the ordinary reasonable observer, with no expert assistance.”  Apple , 35 F.3d at 1442.  \\nAt oral argument and in their briefing, plaintiffs argued \\nthat we are required to defer to the jury’s determination that \\nthe Joyful Noise and Dark Horse ostinatos are substantially similar.  But even when juries serve as the factfinders, judges retain an i mportant gatekeeping role in applying the law.  To \\nbe sure, the intrinsic test for substantial similarity is “uniquely suited for determination by the trier of fact” because of its focus on the lay listener, and so “this court must be reluctant to reverse” a jury’s finding that two works \\nare intrinsically similar.  Sid & Marty Krofft Television Prods., Inc. v. McDonald’s Corp., 562 F.2d 1157, 1166 (9th Case: 20-55401, 03/10/2022, ID: 12391170, DktEntry: 95-1, Page 13 of 26 14 GRAY V . HUDSON  \\n \\nCir. 1977), overruled on other grounds by  Skidmore , 952 \\nF.3d 1051;5 accord  Three Boys Music Corp. v. Bolt on, 212 \\nF.3d 477, 485 (9th Cir. 2000), overruled on other grounds \\nby Skidmore , 952 F.3d 1051 (quoting same, and adding, “We \\nwill not second- guess the jury’s application of the intrinsic \\ntest.”).  Crucially, however, the extrinsic test is objective and is often resolved as a matter of law.  See  Benay v. Warner \\nBros. Ent., 607 F.3d 620, 624 (9th Cir. 2010), overruled on other grounds by  Skidmore , 952 F.3d 1051 (noting summary \\njudgment is often granted on this issue).  So, while we must refrain from usurping t he jury’s traditional role of evaluating \\nwitness credibility and weighing the evidence, the extrinsic test requires us as a court to ensure that whatever objective similarities the evidence establishes between two works are legally sufficient to serve as t he basis of a copyright \\ninfringement claim regardless of the jury’s views.  \\nII. Protected Elements Contained in Joyful Noise \\nBecause the extrinsic test for substantial similarity \\nrequires us to distinguish between “protected and \\nunprotected material in a pl aintiff’s work,” Swirsky , 376 \\nF.3d at 845, the threshold issue is what —if anything—about \\nthe Joyful Noise ostinato qualifies as original expression that can serve as the basis for a copyright infringement claim.  \\nSee Feist , 499 U.S. at 361 (infringement re quires “copying \\nof constituent elements of [a] work that are original”); Skidmore , 952 F.3d at 1070 (substantial similarity test \\n \\n5 This case and others cited in this opinion with the same subsequent \\nprocedural history indication were overruled by Skidmore  only to the \\nextent they suggested that a weaker showing of substantial similarity is \\nrequired when a high degree of access to a copyrighted work has been \\nshown.  See Skidmore , 952 F.3d at 1065– 69 (calling this the “inverse -\\nratio rule”).  These cases otherwise remain binding on us.  Case: 20-55401, 03/10/2022, ID: 12391170, DktEntry: 95-1, Page 14 of 26  GRAY V . HUDSON  15 \\n \\nfocuses on “the protectible elements, standing alone, . . . and \\ndisregard[s] the non- protectible elements” (cleaned up)).  \\n“Alth ough copyright protects only original expression, it \\nis not difficult to meet the famously low bar for originality.”  \\nSkidmore , 952 F.3d at 1069.  “[T]he requisite level of \\ncreativity is extremely low; even a slight amount will suffice.  The vast majority of works make the grade quite easily, as they possess some creative spark, no matter how crude, humble or obvious it might be.”  Feist , 499 U.S. at 345 \\n(citation and internal quotation marks omitted).  \\nBut “[e]ven in the face of this low threshold, copyright \\ndoes require at least a modicum of creativity and does not \\nprotect every aspect of a work; ideas, concepts, and common elements are excluded.  Nor does copyright extend to common or trite musical elements, or commonplace elements that are firmly  rooted in the genre’s tradition. These \\nbuilding blocks belong in the public domain and cannot be exclusively appropriated by any particular author.”  Skidmore , 952 F.3d at 1069 (cleaned up); see also  Swirsky , \\n376 F.3d at 850 (“Under the scenes a faire doc trine, when \\ncertain commonplace expressions are indispensable and naturally associated with the treatment of a given idea, those expressions are treated like ideas and therefore not protected by copyright.”).  \\nThe trial record here requires us to conclude t hat no \\nsingle point of similarity between Joyful Noise and Dark Horse arises out of a protectible form of expression.  For this issue, it is arguably sufficient that plaintiffs’ expert musicologist, Dr. Decker, candidly testified that “[a]ny single one of those [elements] would not have been enough” for him to conclude that substantial similarity existed, and that only “the combination” of those elements led him to this conclusion.  Nonetheless, Dr. Decker testified as an expert Case: 20-55401, 03/10/2022, ID: 12391170, DktEntry: 95-1, Page 15 of 26 16 GRAY V . HUDSON  \\n \\nmusicologist, not as an expe rt on copyright law.  For that \\nreason, we provide a brief overview of the individual \\nmusical elements identified by plaintiffs as original, and explain why those elements are not individually entitled to copyright protection.  We address whether copyright law protects the combination of these unprotectible elements in the next section.  \\nTo reiterate, Dr. Decker drew attention to the following \\nmusical elements in support of his opinion that the Joyful Noise and Dark Horse ostinatos are substantially similar: \\nThe length of [each] ostinato is similar, eight notes.  The rhythm of the ostinato is similar.  The melodic content, the scale degrees present.  The melodic shape so the —the way \\nthe melody moves through musical space.  Similar, the [timbre] or the quality and color of the sound is similar, and the use of the —\\nthe placement of this material, this ostinato, in the musical space of the recording in the mix[,] that is also similar.  So that’s five or six points of similarity between the two ostinatos. \\nThough it used slightly different terminology, plaintiffs’ \\nopening brief focused on essentially the same musical elements, adding that both ostinatos were based on the minor scale.  \\nThe evidence at trial was legally insufficient to establish \\nthat these musical elemen ts are individually copyrightable.  \\nWe note that Dr. Decker himself acknowledged that many of these elements are commonplace in the musical world, even if some aspects of the Joyful Noise and Dark Horse ostinatos were unusual for their respective genres.  For example, apart Case: 20-55401, 03/10/2022, ID: 12391170, DktEntry: 95-1, Page 16 of 26  GRAY V . HUDSON  17 \\n \\nfrom conceding that “there are many” songs “predating the \\ncreation of Joyful Noise that have ostinatos,” Dr. Decker explained that it is “characteristic” for musical phrases playing a role similar to the ostinatos at issue here “to last for eight beats.”   And while Dr. Decker opined that it is \\nuncommon to use completely even rhythms in popular music, he also testified that the use of such a rhythm in Joyful Noise and Dark Horse was a “relatively simple rhythmic choice” that “no composer’s  entitled to monopolize.”\\n6  \\nPlaintiffs adduced no evidence at trial contradicting their own expert’s testimony suggesting that these shared elements of the two ostinatos are merely common musical “building blocks” belonging to the public domain.  See  \\nSkidmore , 952 F.3d at 1069; Swirsky , 376 F.3d at 850. \\nEven leaving aside these admissions, our precedents and \\nother persuasive decisions make clear that no element \\nidentified by plaintiffs or Dr. Decker is individually \\ncopyrightable.  Plainly, no person may copyright the minor scale, as such scales are common musical building blocks belonging to the public.  See Skidmore , 952 F.3d at 1070–\\n71.  The fact that Joyful Noise and Dark Horse both make use of “sequence[s] of eight notes” played in an even rhythm is a s imilarly “trite” musical choice outside the protection of \\ncopyright law.  Darrell v. Joe Morris Music Co. , 113 F.2d \\n80, 80 (2d Cir. 1940) (per curiam).  Along somewhat different lines, the fact that Joyful Noise and Dark Horse arguably have similar texture s\\n7 is far too abstract of a \\n \\n6 Plaintiffs conceded this element was not individually protectible in \\ntheir district co urt briefing.  \\n7 Dr. Decker explained that texture refers to the way different \\nmusical elements —such as parts played by different instruments —are \\nmixed together.  He commented that both Joyful Noise and Dark Horse \\n Case: 20-55401, 03/10/2022, ID: 12391170, DktEntry: 95-1, Page 17 of 26 18 GRAY V . HUDSON  \\n \\nsimilarity to be legally cognizable.  See  Harper & Row \\nPublishers, Inc. v. Nation Enters., 471 U.S. 539, 556 (1985) \\n(explaining that copyright law protects expression, not ideas); cf. Morrill v. Stefani , 338 F. Supp. 3d 1051, 1060 \\n(C.D. Cal. 2018) (“the use of a long- short -long rhythm is too \\ngeneral to be protectable”).  \\nDr. Decker’s remark that the ostinatos have a similar \\ntimbre also does not help plaintiffs.  Dr. Decker explained that timbre is a way of describing a sound’s quality: for example, a clarinet and a piano playing the same notes will sound noticeably different.  Dr. Decker testified that the synthesizers used to play the Joyful Noise and Dark Horse ostinatos have similar timbres because they both use sounds that are  “artificial,” are in a “high” register, and seem \\n“pingy,” among other similar descriptors.  But a copyright to a musical work does not give one the right to assert ownership over the sound of a synthesizer any more than the sound of a trombone or a banjo. \\nFor one, plaintiffs have sued only for infringement of \\ntheir copyright in Joyful Noise as a musical composition.  In contrast, the choice of a particular instrument (whether acoustic or electronic) to play a tune relates to the performance or recording of  a work, which are protected by \\ndistinct copyrights.  See, e.g. , Williams v. Gaye , 895 F.3d \\n1106, 1121 (9th Cir. 2018) (“It is well settled that sound recordings and musical compositions are separate works with their own distinct copyrights.” (cleaned up)) ; Newton v. \\nDiamond, 204 F. Supp. 2d 1244, 1258 (C.D. Cal. 2002), aff’d , 388 F.3d 1189 (9th Cir. 2004) (distinguishing between \\n“elements protected by [the plaintiff’s] copyright over the \\n \\nhave relatively “empty” textures, with the ostinatos beginning “in \\nrelative isolation.”  Case: 20-55401, 03/10/2022, ID: 12391170, DktEntry: 95-1, Page 18 of 26  GRAY V . HUDSON  19 \\n \\nmusical composition” at issue and “those attributable to his \\nperforma nce of the piece or the sound recording”).  \\nMore generally, the use of synthesizers to accompany \\nvocal performers has long been commonplace in popular music.  See, e.g., Batiste v. Najm , 28 F. Supp. 3d 595, 623 \\n(E.D. La. 2014).  Along these lines, Dr. Decke r conceded \\nthat timbre “is one of the very difficult things to monopolize.”  \\nThat leaves us with plaintiffs’ contention that the pitch \\nsequence utilized by the Joyful Noise ostinato is copyrightable, and with Dr. Decker’s related comments that the two ostin atos use similar “scale degrees” and have the \\nsame “melodic content [and] shape.”  At this point, it is necessary to distinguish between an abstract sequence of pitches and a melody (or, more colloquially, a tune).  Though the concepts are sometimes equated, creating a melody involves more than writing down a sequence of pitches; at a minimum, that sequence must also be “rhythmically organized” so as to form an “esthetic whole.”  Melody , \\nWebster’s Third New International Dictionary (2002); cf.  \\nSwirsky , 376 F.3d at 848 (distinguishing between non-\\ncopyrightable “chord progressions” standing alone and a copyrightable “chorus,” which involves these progressions “in combination with rhythm and pitch sequence[s]”).  \\nWhile an eight -note melody  may be copyrightable, the \\nabstract eight -note pitch sequence  that is a component of the \\nmelody is not.  See U.S. Copyright Office, Compendium of \\nU.S. Copyright Office Practices  § 313.4(C) (3d ed. 2021)\\n8 \\n \\n8 Available at  https://www.copyright.gov/comp3/chap300/ch300 -\\ncopyrightable -authorship.pdf .  Our court has drawn upon the \\nCompendium for guidance on what qualifies as copyrightable \\nexpression.  See Skidmore , 952 F.3d at 1070 –71.  The Supreme Court \\n Case: 20-55401, 03/10/2022, ID: 12391170, DktEntry: 95-1, Page 19 of 26 20 GRAY V . HUDSON  \\n \\n(citing 37 C.F.R. § 202.1(a)) (advising that “short  musical \\nphrases consisting of only a few musical notes standing \\nalone are not copyrightable . . . even if the phrase is novel or \\ndistinctive,” and giving an eight -note pitch sequence as an \\nexample).  \\nWe note that this conclusion is consistent with the rule  \\nthat “chord progressions may not be individually protected” because they are basic musical building blocks.  Swirsky , \\n376 F.3d at 848.  Chords are ultimately just a combination of pitches played simultaneously, Skidmore , 952 F.3d at \\n1070, so a chord progr ession itself consists of multiple pitch \\nsequences playing out at the same time.  If the chord progression cannot be protected, the individual pitch sequences forming the progression cannot be either. \\nTurning finally to the ostinatos’ “melodic shape,” Dr. \\nDecker described this as “the way the melody moves through musical space.”  He explained that “scale degrees have in them tendencies . . . .  There are scale degrees that want to go somewhere . . . and scale degrees that say you’re home \\nlike 1.”  Later in his testimony, he elaborated that “3 wants to go to 2, [and] the 2 wants to go to 1 because 1 is our home note.”   Applying this concept to the Joyful Noise and Dark \\nHorse ostinatos, he testified that the repetition of scale degree 3 in both songs created “ tension that wants to be \\nreleased and it’s released to [scale degree 2] on a particularly strong beat.”  \\nAs with musical texture, it could be argued that the \\noverall “shape” of a melody as described by Dr. Decker is nothing more than an abstraction outside the protection of \\n \\nhas done the same.  See Star Athletica, LLC v. Varsity Brands, Inc. , 137 \\nS. Ct. 1002, 1014 (2017).  Case: 20-55401, 03/10/2022, ID: 12391170, DktEntry: 95-1, Page 20 of 26  GRAY V . HUDSON  21 \\n \\ncopyright law.  See  Harper & Row , 471 U.S. at 556.  In any \\nevent, as the district court recognized, Dr. Decker’s \\nexplanation that the two ostinatos moved “through musical space” in similar ways simply reflects “rules of consonance common in popular music.”  Just as films often rely on tropes \\nto tell a compelling story, music uses standard tools to build and resolve dramatic tension.  In this vein, courts have recognized that “while there are an enormous number of possible permutations of t he musical notes of the scale, only \\na few are pleasing.”  Darrell , 113 F.2d at 80; see also  \\nSkidmore , 952 F.3d at 1079–80 (Watford, J., concurring) \\n(recognizing “the constraints of particular musical conventions and styles”).  This is also underscored by t he \\nfact that uncontradicted evidence at trial showed that two songs predating Joyful Noise —Merrily We Roll Along and \\nJolly Old Saint Nicholas —used the same pitch sequence \\n(albeit in the “major” scale rather than the minor scale) and melodic shape.  Cf.  Granite Music Corp. v. United Artists \\nCorp., 532 F.2d 718, 720 (9th Cir. 1976) (“Evidence of similar musical phrases appearing in prior works . . . demonstrates that the musical language was of such ordinary and common occurrence that the probability of independent, coincidental production was great.”) . \\nBecause the use of similar pitch sequences in the Joyful \\nNoise and Dark Horse ostinatos results only from the use of commonplace, unoriginal musical principles, it cannot be the basis for a copyright infringeme nt claim on its own.  See \\nSwirsky , 376 F.3d at 850 (expression that is “naturally \\nassociated with the treatment of a given idea” is not copyrightable).  Case: 20-55401, 03/10/2022, ID: 12391170, DktEntry: 95-1, Page 21 of 26 22 GRAY V . HUDSON  \\n \\nIII. Protection of the Unprotectible Musical Elements \\nin Combination  \\nAlthough no individual musical component of the Joyful \\nNoise ostinato is copyrightable, we still must consider whether the Joyful Noise ostinato is protectible as a “combination of unprotectable elements.”  Satava v. Lowry , \\n323 F.3d 805, 811 (9th Cir. 2003); see also  Swirsky , 376 F.3d \\nat 848 (“[A] substantial similarity can be found in a combination of elements, even if those elements are individually unprotected.”).  That is the case only if the “selection and arrangement” of those elements is original in some way.  Satava, 323 F.3d at 811.  \\nWe begin this analysis with some guiding principles.  To \\nstart, the fact that the ostinatos here are only eight notes long does not foreclose the possibility of a protected arrangement of commonplace musical elements.  See  Swirsky , 376 F.3d \\nat 852 (“It cannot be said as a matter of law that seven notes is too short a length to garner copyright protection.”).  “Each note in a scale . . . is not protectable, but a pattern of notes in \\na tune may  earn copyright protection.”  Metcalf v. Bochco , \\n294 F.3d 1069, 1074 (9th Cir. 2002), overruled on other grounds by  Skidmore , 952 F.3d 1051 (emphasis added).  On \\nthe other hand, despite “the famously low bar for originality,” Skidmore , 952 F.3d at 1069, “[t]rivial  elements \\nof compilation and arrangement . . . fall below the threshold of originality.”  United States v. Hamilton, 583 F.2d 448, 451 (9th Cir. 1978); accord  Satava, 323 F.3d at 811–12. \\nOne circumstance where an arrangement of individual \\nelements lacks en ough creativity to garner copyright \\nprotection is when that arrangement is “practically inevitable” or in keeping with “an age- old practice, firmly \\nrooted in tradition and so commonplace that it has come to be expected as a matter of course.”  Feist , 499 U .S. at 363.  Case: 20-55401, 03/10/2022, ID: 12391170, DktEntry: 95-1, Page 22 of 26  GRAY V . HUDSON  23 \\n \\n“For example, it is well- settled that copyright of a map does \\nnot give the author an exclusive right to the coloring, \\nsymbols, and key used in delineating boundaries of and locations within the territory depicted.”  Hamilton , 583 F.2d \\nat 451 ( 9th Cir. 1978).  The same is true for an alphabetical \\narrangement of numbers in a phonebook.  Feist , 499 U.S. at \\n363.  These are all utterly conventional ways of arranging information, and so they cannot be called “original” under copyright law.  \\nTo provide  an example in the artistic context, we have \\nheld that lifelike glass “jellyfish sculptures” enclosed in a clear outer layer of glass did not combine public -domain \\nelements in an original way.  Satava, 323 F.3d at 811.  We did not dispute that the sculptur es were “beautiful,” but we \\ndetermined that elements such as the “selection of clear glass, oblong shroud, bright colors, proportion, vertical orientation, and stereotyped jellyfish form, considered together, lack[ed] the quantum of originality needed to m erit \\ncopyright protection.”  Id.   This was because “[t]hese \\nelements are so commonplace in glass -in-glass sculpture and \\nso typical of jellyfish physiology that to recognize copyright protection in their combination effectively would give [the artist] a mon opoly” over this artform.  Id.  at 812.  \\nLikewise, the portion of the Joyful Noise ostinato that \\noverlaps with the Dark Horse ostinato consists of a manifestly conventional arrangement of musical building blocks.  Joyful Noise and Dark Horse contain similar arrangements of basic musical features mainly in that both employ the pitch progression 3- 3-3-3-2-2 played in a \\ncompletely flat rhythm.  This combination is unoriginal because it is really nothing more than a two- note snippet of \\na descending minor scale, w ith some notes repeated.  See  \\nSkidmore , 952 F.3d at 1070 (holding that descending scales Case: 20-55401, 03/10/2022, ID: 12391170, DktEntry: 95-1, Page 23 of 26 24 GRAY V . HUDSON  \\n \\nare not copyrightable).  Allowing a copyright over this \\nmaterial would essentially amount to allowing an improper monopoly over two- note pitch sequences or even the mi nor \\nscale itself, especially in light of the limited number of expressive choices available when it comes to an eight -note \\nrepeated musical figure.  See Satava, 323 F.3d at 812 & n.5 \\n(expressing concerns over monopolization when limited creative choices ar e available); see also  Skidmore , 952 F.3d \\nat 1079–80 (Watford, J., concurring) (“There are relatively few ways to express a combination of five basic elements in just four measures, especially given the constraints of particular musical conventions and styles . . . .  [O]nce [the \\nartist] settled on using a descending chromatic scale in A minor, there were a limited number of chord progressions that could reasonably accompany that bass line (while still sounding pleasant to the ear).”); Calhoun v. Lillenas P ubl’g, \\n298 F.3d 1228, 1232 (11th Cir. 2002) (per curiam) (recognizing “the limited number of musical notes (as opposed to words in a language), the combination of those notes[,] and their phrasing”); Darrell , 113 F.2d at 80. \\nConsequently, insofar as it com bines musical building \\nblocks in the same way that the Dark Horse ostinato does, the Joyful Noise ostinato lacks “the quantum of originality needed to merit copyright protection.”  Satava, 323 F.3d at \\n811.  If we were to hold otherwise, “it is hard to beli eve that \\nany collection” of pitches arranged in a flat rhythm “could fail” to meet the originality threshold.  Feist , 499 U.S. at \\n364–65 (recognizing that “some works must fail” the originality requirement).\\n9 \\n \\n9 As in Satava, we certainly do not suggest that Joyful Noise as a \\nwhole is lacking in original expression.  See  323 F.3d  at 812 (“ We do not \\nmean to suggest that [the artist]  has added nothing copyrightable to his \\n Case: 20-55401, 03/10/2022, ID: 12391170, DktEntry: 95-1, Page 24 of 26  GRAY V . HUDSON  25 \\n \\nIV. Plaintiffs’ Remaining Arguments  \\nTwo other issues warrant brief commentary.  First, \\nplaintiffs’ opening brief contended that the district court \\nimproperly relied on evidence outside the record submitted by amici after trial, namely amici’s representation that they had found many tunes similar to the ostinatos at issue here in musical databases.  Why that might be relevant to our de novo review is not entirely clear, as neither defendants nor amici have brought this material to our attention on appeal.  Regardless, the district court referred to this  material only in \\na single “see also ” cite following a lengthy string cite to the \\ntrial record.  Striking this from the court’s order would have no noticeable effect on its thorough 32- page analysis.  \\nSecond, we reject plaintiffs’ suggestion that it was \\nimproper for the district court to grant JMOL after \\npreviously having denied summary judgment on the issue of extrinsic similarity, which is unsupported by any authority.  A trial judge has had the benefit of hearing testimony and a full presentation of the e vidence when ruling on a post -trial \\nJMOL motion, which may occasionally give her new insights into the legal sufficiency of the evidence.  See, e.g. , \\nLies v. Farrell Lines, Inc. , 641 F.2d 765, 772 (9th Cir. 1981).  \\nWhile JMOL and summary judgment are proce durally \\nsimilar, there is no rule preventing a trial judge from \\nreconsidering her views on a case’s merits.  \\n \\njellyfish sculptures. ”).  But once we “disregard the non -protectible \\nelements” in Joyful Noise, Skidmore , 952 F.3d at 1070, we are left with \\nno objective similarities between Joyful Noise and Dark Horse that may \\nserve as the basis for plaintiffs’ copyright claims, see, e.g. , Benay , 607 \\nF.3d at 624 (extrinsic test requires “articulable similarities” between \\nworks).  Case: 20-55401, 03/10/2022, ID: 12391170, DktEntry: 95-1, Page 25 of 26 26 GRAY V . HUDSON  \\n \\nCONCLUSION \\nPlaintiffs failed to put forward legally sufficient \\nevidence that Joyful Noise and Dark Horse are extrinsically \\nsimilar works with respec t to any musical features \\nprotectible under copyright law.  Consequently, we affirm the district court’s order vacating the jury award and granting JMOL to defendants. \\nAFFIRMED.  Case: 20-55401, 03/10/2022, ID: 12391170, DktEntry: 95-1, Page 26 of 26'"
      ]
     },
     "execution_count": 117,
     "metadata": {},
     "output_type": "execute_result"
    }
   ],
   "source": [
    "# complete_file.iloc[14229]['text']"
   ]
  },
  {
   "cell_type": "code",
   "execution_count": null,
   "id": "d4dbc0c0",
   "metadata": {},
   "outputs": [],
   "source": []
  }
 ],
 "metadata": {
  "kernelspec": {
   "display_name": "Python 3 (ipykernel)",
   "language": "python",
   "name": "python3"
  },
  "language_info": {
   "codemirror_mode": {
    "name": "ipython",
    "version": 3
   },
   "file_extension": ".py",
   "mimetype": "text/x-python",
   "name": "python",
   "nbconvert_exporter": "python",
   "pygments_lexer": "ipython3",
   "version": "3.9.13"
  }
 },
 "nbformat": 4,
 "nbformat_minor": 5
}
