{
 "cells": [
  {
   "cell_type": "code",
   "execution_count": 2,
   "id": "34086e6b",
   "metadata": {},
   "outputs": [],
   "source": [
    "import requests\n",
    "import pandas as pd"
   ]
  },
  {
   "cell_type": "code",
   "execution_count": 3,
   "id": "1e4b2ad8",
   "metadata": {},
   "outputs": [],
   "source": [
    "file = 'C:\\\\Users\\\\mjjyo\\\\OneDrive\\\\Desktop\\\\supreme_court.csv'\n",
    "court_data = pd.read_csv(file)\n",
    "names = court_data['name']"
   ]
  },
  {
   "cell_type": "code",
   "execution_count": 4,
   "id": "874ec024",
   "metadata": {},
   "outputs": [
    {
     "data": {
      "text/plain": [
       "0       HALLIBURTON OIL WELL CEMENTING CO. v. WALKER e...\n",
       "1            FUNK BROTHERS SEED CO. v. KALO INOCULANT CO.\n",
       "2       YOUNG v. UNITED STATES ex rel. VUITTON ET FILS...\n",
       "3                UNITED STATES v. GLAXO GROUP LTD. et al.\n",
       "4               UNITED STATES v. NEW WRINKLE, INC. ET AL.\n",
       "                              ...                        \n",
       "8798    STATE OF NEBRASKA v. STATES OF WYOMING AND COL...\n",
       "8799     WASHINGTON et al. v. GENERAL MOTORS CORP. et al.\n",
       "8800    SOUTH CAROLINA v. REGAN, SECRETARY OF THE TREA...\n",
       "8801    SOUTH CAROLINA v. BAKER, SECRETARY OF THE TREA...\n",
       "8802                 OREGON v. MITCHELL, ATTORNEY GENERAL\n",
       "Name: name, Length: 8803, dtype: object"
      ]
     },
     "execution_count": 4,
     "metadata": {},
     "output_type": "execute_result"
    }
   ],
   "source": [
    "names"
   ]
  },
  {
   "cell_type": "code",
   "execution_count": 5,
   "id": "51f94cbd",
   "metadata": {},
   "outputs": [
    {
     "name": "stdout",
     "output_type": "stream",
     "text": [
      "['GovInfo', '__builtins__', '__cached__', '__doc__', '__file__', '__loader__', '__name__', '__package__', '__path__', '__spec__', 'cachetools', 'datetime', 'pytz', 'scrapelib']\n"
     ]
    }
   ],
   "source": [
    "import govinfo \n",
    "print(dir(govinfo))"
   ]
  },
  {
   "cell_type": "code",
   "execution_count": 6,
   "id": "e43a2924",
   "metadata": {},
   "outputs": [
    {
     "name": "stdout",
     "output_type": "stream",
     "text": [
      "['BASE_URL', '__annotations__', '__attrs__', '__class__', '__delattr__', '__dict__', '__dir__', '__doc__', '__enter__', '__eq__', '__exit__', '__format__', '__ge__', '__getattribute__', '__getstate__', '__gt__', '__hash__', '__init__', '__init_subclass__', '__le__', '__lt__', '__module__', '__ne__', '__new__', '__reduce__', '__reduce_ex__', '__repr__', '__setattr__', '__setstate__', '__sizeof__', '__str__', '__subclasshook__', '__weakref__', '_format_time', '_pages', '_throttle', '_throttled', 'accept_response', 'average_request_time', 'close', 'collections', 'congressional_hearings', 'delete', 'disable_compression', 'get', 'get_adapter', 'get_redirect_target', 'head', 'key_for_request', 'merge_environment_settings', 'mount', 'options', 'patch', 'post', 'prepare_request', 'put', 'rebuild_auth', 'rebuild_method', 'rebuild_proxies', 'request', 'requests_per_minute', 'reset_stats', 'resolve_redirects', 'retry_attempts', 'send', 'should_cache_response', 'should_strip_auth', 'urlretrieve', 'user_agent']\n"
     ]
    }
   ],
   "source": [
    "from govinfo import GovInfo\n",
    "print(dir(GovInfo))"
   ]
  },
  {
   "cell_type": "code",
   "execution_count": 7,
   "id": "601fe939",
   "metadata": {},
   "outputs": [],
   "source": [
    "api_key = 'redacted'\n",
    "gov = GovInfo(api_key = api_key)\n"
   ]
  },
  {
   "cell_type": "code",
   "execution_count": 8,
   "id": "a2b02222",
   "metadata": {
    "scrolled": true
   },
   "outputs": [
    {
     "name": "stdout",
     "output_type": "stream",
     "text": [
      "{'collectionCode': 'BILLS', 'collectionName': 'Congressional Bills', 'packageCount': 249014, 'granuleCount': None}\n",
      "{'collectionCode': 'BILLSTATUS', 'collectionName': 'Congressional Bill Status', 'packageCount': 138603, 'granuleCount': None}\n",
      "{'collectionCode': 'BUDGET', 'collectionName': 'United States Budget', 'packageCount': 337, 'granuleCount': 6759}\n",
      "{'collectionCode': 'CCAL', 'collectionName': 'Congressional Calendars', 'packageCount': 5197, 'granuleCount': 82879}\n",
      "{'collectionCode': 'CDIR', 'collectionName': 'Congressional Directory', 'packageCount': 125, 'granuleCount': 15024}\n",
      "{'collectionCode': 'CDOC', 'collectionName': 'Congressional Documents', 'packageCount': 16430, 'granuleCount': 9379}\n",
      "{'collectionCode': 'CFR', 'collectionName': 'Code of Federal Regulations', 'packageCount': 5801, 'granuleCount': 6812498}\n",
      "{'collectionCode': 'CHRG', 'collectionName': 'Congressional Hearings', 'packageCount': 35477, 'granuleCount': 286}\n",
      "{'collectionCode': 'COMPS', 'collectionName': 'Statutes Compilations', 'packageCount': 2415, 'granuleCount': None}\n",
      "{'collectionCode': 'CPD', 'collectionName': 'Compilation of Presidential Documents', 'packageCount': 14725, 'granuleCount': 23012}\n",
      "{'collectionCode': 'CPRT', 'collectionName': 'Congressional Committee Prints', 'packageCount': 2538, 'granuleCount': 1670}\n",
      "{'collectionCode': 'CREC', 'collectionName': 'Congressional Record', 'packageCount': 5302, 'granuleCount': 762846}\n",
      "{'collectionCode': 'CRECB', 'collectionName': 'Congressional Record (Bound Edition)', 'packageCount': 2395, 'granuleCount': 455558}\n",
      "{'collectionCode': 'CRI', 'collectionName': 'Congressional Record Index', 'packageCount': 41, 'granuleCount': 590481}\n",
      "{'collectionCode': 'CRPT', 'collectionName': 'Congressional Reports', 'packageCount': 36420, 'granuleCount': 552}\n",
      "{'collectionCode': 'CZIC', 'collectionName': 'Coastal Zone Information Center', 'packageCount': 4883, 'granuleCount': None}\n",
      "{'collectionCode': 'ECFR', 'collectionName': 'Electronic Code of Federal Regulations', 'packageCount': 49, 'granuleCount': None}\n",
      "{'collectionCode': 'ECONI', 'collectionName': 'Economic Indicators', 'packageCount': 335, 'granuleCount': 16075}\n",
      "{'collectionCode': 'ERIC', 'collectionName': 'Education Reports from ERIC', 'packageCount': 563, 'granuleCount': None}\n",
      "{'collectionCode': 'ERP', 'collectionName': 'Economic Report of the President', 'packageCount': 28, 'granuleCount': 2813}\n",
      "{'collectionCode': 'FR', 'collectionName': 'Federal Register', 'packageCount': 21943, 'granuleCount': 916485}\n",
      "{'collectionCode': 'GAOREPORTS', 'collectionName': 'Government Accountability Office Reports and Comptroller General Decisions', 'packageCount': 16569, 'granuleCount': None}\n",
      "{'collectionCode': 'GOVMAN', 'collectionName': 'United States Government Manual', 'packageCount': 27, 'granuleCount': 4874}\n",
      "{'collectionCode': 'GOVPUB', 'collectionName': 'Bulk Submission', 'packageCount': 43417, 'granuleCount': 321}\n",
      "{'collectionCode': 'GPO', 'collectionName': 'Additional Government Publications', 'packageCount': 4188, 'granuleCount': 79635}\n",
      "{'collectionCode': 'HJOURNAL', 'collectionName': 'Journal of the House of Representatives', 'packageCount': 39, 'granuleCount': 33948}\n",
      "{'collectionCode': 'HMAN', 'collectionName': 'House Rules and Manual', 'packageCount': 14, 'granuleCount': 1937}\n",
      "{'collectionCode': 'HOB', 'collectionName': 'History of Bills', 'packageCount': 41, 'granuleCount': 286017}\n",
      "{'collectionCode': 'LSA', 'collectionName': 'List of CFR Sections Affected', 'packageCount': 318, 'granuleCount': 16475}\n",
      "{'collectionCode': 'PAI', 'collectionName': 'Privacy Act Issuances', 'packageCount': 1476, 'granuleCount': None}\n",
      "{'collectionCode': 'PLAW', 'collectionName': 'Public and Private Laws', 'packageCount': 5619, 'granuleCount': None}\n",
      "{'collectionCode': 'PPP', 'collectionName': 'Public Papers of the Presidents of the United States', 'packageCount': 180, 'granuleCount': 24847}\n",
      "{'collectionCode': 'SERIALSET', 'collectionName': 'Congressional Serial Set', 'packageCount': 34146, 'granuleCount': None}\n",
      "{'collectionCode': 'SJOURNAL', 'collectionName': 'Journal of the Senate', 'packageCount': 65, 'granuleCount': None}\n",
      "{'collectionCode': 'SMAN', 'collectionName': 'Senate Manual', 'packageCount': 8, 'granuleCount': 1310}\n",
      "{'collectionCode': 'STATUTE', 'collectionName': 'Statutes at Large', 'packageCount': 66, 'granuleCount': 36845}\n",
      "{'collectionCode': 'USCODE', 'collectionName': 'United States Code', 'packageCount': 1393, 'granuleCount': 1802687}\n",
      "{'collectionCode': 'USCOURTS', 'collectionName': 'United States Courts Opinions', 'packageCount': 1734168, 'granuleCount': 3740386}\n"
     ]
    }
   ],
   "source": [
    "import json\n",
    "# Get a list of all available collections\n",
    "collections_request = gov.collections()\n",
    "collections_request_json = json.dumps(collections_request)\n",
    "collections_request_dict = json.loads(collections_request_json)\n",
    "\n",
    "for collection in collections_request_dict['collections']:\n",
    "    print(collection)"
   ]
  },
  {
   "cell_type": "code",
   "execution_count": 68,
   "id": "ae063b63",
   "metadata": {},
   "outputs": [],
   "source": [
    "# Set collection code for federal court cases\n",
    "supreme_court_collection_code = 'USCOURTS'\n",
    "start_date = '2022-01-01'\n",
    "offset_val = 0\n",
    "\n",
    "packages_request = gov.get(f'{gov.BASE_URL}/published/{start_date}?offset={offset_val}&pageSize=1000&collection={supreme_court_collection_code}&offsetMark=%2A&api_key={api_key}')\n",
    "packages_request_dict = packages_request.json()\n"
   ]
  },
  {
   "cell_type": "code",
   "execution_count": null,
   "id": "0f4a1815",
   "metadata": {},
   "outputs": [],
   "source": []
  },
  {
   "cell_type": "code",
   "execution_count": null,
   "id": "d1b40a0b",
   "metadata": {},
   "outputs": [],
   "source": []
  },
  {
   "cell_type": "code",
   "execution_count": 69,
   "id": "dac77de5",
   "metadata": {},
   "outputs": [],
   "source": [
    "import zipfile\n",
    "import urllib.request\n",
    "import io\n",
    "import os\n",
    "import glob\n",
    "import PyPDF2"
   ]
  },
  {
   "cell_type": "code",
   "execution_count": 70,
   "id": "1b06bc92",
   "metadata": {},
   "outputs": [],
   "source": [
    "\n",
    "#function for getting case file of a text, given an API link\n",
    "\n",
    "def get_case_text(link):\n",
    "    url = api_link\n",
    "    response = requests.get(url)\n",
    "\n",
    "    with zipfile.ZipFile(io.BytesIO(response.content)) as zip_file:\n",
    "        # Get the name of the first file in the zip file\n",
    "        first_file = zip_file.namelist()[1]\n",
    "#         print(first_file)\n",
    "\n",
    "        first_file_contents = zip_file.read(first_file)\n",
    "        # Create a PDF reader object from the contents of the first file\n",
    "        pdf_reader = PyPDF2.PdfReader(io.BytesIO(first_file_contents))\n",
    "\n",
    "        # Get the number of pages in the PDF file\n",
    "        num_pages = len(pdf_reader.pages)\n",
    "        \n",
    "        all_text = []\n",
    "         # Extract the text from each page in the PDF file\n",
    "        for i in range(num_pages):\n",
    "            # Get the page object\n",
    "            page = pdf_reader.pages[i]\n",
    "\n",
    "            # Extract the text from the page\n",
    "            text = page.extract_text()\n",
    "            all_text.append(text)\n",
    "            \n",
    "        new_all_text = ' '.join(all_text)\n",
    "        return new_all_text\n",
    "    \n",
    "# case_text = get_case_text(api_link)\n",
    "# print(case_text)"
   ]
  },
  {
   "cell_type": "code",
   "execution_count": 71,
   "id": "5b6130cc",
   "metadata": {},
   "outputs": [],
   "source": [
    "data = {'title':[], 'text':[]}\n",
    "text_df = pd.DataFrame(data) "
   ]
  },
  {
   "cell_type": "code",
   "execution_count": 72,
   "id": "2844ae8a",
   "metadata": {},
   "outputs": [
    {
     "data": {
      "text/html": [
       "<div>\n",
       "<style scoped>\n",
       "    .dataframe tbody tr th:only-of-type {\n",
       "        vertical-align: middle;\n",
       "    }\n",
       "\n",
       "    .dataframe tbody tr th {\n",
       "        vertical-align: top;\n",
       "    }\n",
       "\n",
       "    .dataframe thead th {\n",
       "        text-align: right;\n",
       "    }\n",
       "</style>\n",
       "<table border=\"1\" class=\"dataframe\">\n",
       "  <thead>\n",
       "    <tr style=\"text-align: right;\">\n",
       "      <th></th>\n",
       "      <th>title</th>\n",
       "      <th>text</th>\n",
       "    </tr>\n",
       "  </thead>\n",
       "  <tbody>\n",
       "  </tbody>\n",
       "</table>\n",
       "</div>"
      ],
      "text/plain": [
       "Empty DataFrame\n",
       "Columns: [title, text]\n",
       "Index: []"
      ]
     },
     "execution_count": 72,
     "metadata": {},
     "output_type": "execute_result"
    }
   ],
   "source": [
    "text_df"
   ]
  },
  {
   "cell_type": "code",
   "execution_count": null,
   "id": "f65ab6ca",
   "metadata": {},
   "outputs": [],
   "source": []
  },
  {
   "cell_type": "code",
   "execution_count": 74,
   "id": "13de92f1",
   "metadata": {},
   "outputs": [],
   "source": [
    "def get_court_cases(json):\n",
    "    \n",
    "    final_list = []\n",
    "    \n",
    "    sorted_packages = sorted(json['packages'], key=lambda x: x['dateIssued'])\n",
    "    new_sorted_packages = [{'title': package['title'],'id': package['packageId']} for package in sorted_packages if (package['packageId'].split('-')[1] in ['ca1', 'ca2', 'ca3', 'ca4', 'ca5', 'ca6', 'ca7', 'ca8', 'ca9', 'ca10', 'ca1', 'ca13'])]\n",
    "    \n",
    "    \n",
    "    for package in new_sorted_packages:\n",
    "        api_link = f\"https://api.govinfo.gov/packages/{package['id']}/zip?api_key={api_key}\"\n",
    "\n",
    "        text_df.loc[len(text_df.index)] = [package['title'], get_case_text(api_link)]\n",
    "    \n",
    "    \n",
    "#     if json['nextPage'] is not None:\n",
    "#         new_request = gov.get(json['nextPage'])\n",
    "#         next_item = new_request.json()\n",
    "#         get_court_cases(next_item)\n",
    "#     else:\n",
    "#         print('stop')\n",
    "get_court_cases(packages_request_dict)"
   ]
  },
  {
   "cell_type": "code",
   "execution_count": 78,
   "id": "e726a557",
   "metadata": {},
   "outputs": [
    {
     "data": {
      "text/plain": [
       "\"1 1 \\n2 \\n3 \\n4 \\n5 \\n6 \\n7 \\n8 \\n9 \\n10 \\n11 \\n12 \\n13 \\n14 \\n15 \\n16 \\n17 \\n18 \\n19 \\n20 \\n21 \\n22 \\n23 \\n24 IN \\nTHE  UNITED STATES  DISTRICT  COURT  \\nFOR  THE  NORTHERN MARIANA ISLANDS  \\nPACIFIC  RIM  LAND  DEVELOPMENT,  \\nLLC , \\nPlaintiff,  \\nvs. \\nIMPERIAL  PACIFIC  INTERNATIONAL  \\n(CNMI),  LLC , \\nDefendant.  Case  No.: 19-cv-00016 \\nDECISION AND ORDER DENYING  \\nDEFENDANT’S  MOTION  TO DISMISS  \\nAND  \\nGRANTING  PLAINTIFF’S  MOTION  \\nFOR  PARTIAL  SUMMARY JUDGMENT  \\nI. I\\nNTRODUCTION\\nThis civil action involves a dispute between a general contractor, Plaintiff Pacific Rim Land \\nDevelopment, LLC (“Pacific Rim”), and the  company who hired it to work on a casino construction \\nproject, Defendant Imperial Pacific International (CNMI), LLC (“IPI”) . Pacific Rim initiated this \\nlawsuit with a complaint against IPI for breach of contract, both of the construction contract between \\nthe two parties and a promissory note executed by IPI in favor of Pacific Rim  after they agreed to \\nterminate the contract . (See Second Amended Complaint, ECF No. 42.) On January 13, 2020, IPI filed \\na Rule 12(b)(6) motion to dismiss for failure to st ate a claim . (ECF No. 66.) Pacific Rim countered \\n \\n \\n \\n \\n \\n  F I L E D  \\nClerk  \\nDistrict Court  \\n \\nfor the Northern Mariana Islands  \\nBy________________________  \\n                (Deputy Clerk)  \\nAPR 23 2020 2 1 \\n2 \\n3 \\n4 \\n5 \\n6 \\n7 \\n8 \\n9 \\n10 \\n11 \\n12 \\n13 \\n14 \\n15 \\n16 \\n17 \\n18 \\n19 \\n20 \\n21 \\n22 \\n23 \\n24 with a motion for partial summary judgment on February 28, 2020 (ECF No. 85). Both matters were \\nfully briefed and came on for a hearing on April 2 , 2020, at which time the Court DENIED IPI’s \\nmotion to dismis s and GRANTED Pacific Rim’s motion for partial summary judgment. Having ruled \\non the motions at the hearing, the Court now issues this written order memorializing its reasoning. \\nII. DEFENDANT’S  MOTION  TO DISMISS\\nIPI moved to dismiss  Pacific  Rim’s  second  amended  complaint for failure  to state a claim,  \\nnamely  that Pacific Rim failed  to comply with a contractual  condition precedent requiring mediation  \\nprior to the filing  of a lawsuit.  (Mot ion to Dismiss at 1, ECF No. 66.) Alternatively,  IPI moved for \\nsummary  judgment on the same  grounds. ( Id. at 7.) Pacific  Rim argued the complaint’s  general  \\nallegation  that it satisfied  all contractual  prerequisites  to bringing suit satisfie d the pleading standard. \\n(Opposition to Motion to Dismiss  at 2, ECF No. 81.) Moreover, it argued  that there is no condition \\nprecedent  requiring mediation  prior to the filing  of a lawsuit, and even  if there were,  mediation  would \\nhave been  futile.   (Id.) \\na. Legal  Standard\\nTo survive a motion to dismiss for failure to state a claim upon which relief can be granted \\nunder Rule 12(b)(6) of the Federal Rules of Civil Procedure, a pleading “must contain sufficient factual \\nmatter, accepted as true, to ‘state a claim to relief that  is plausible on its face.’” Ashcroft v. Iqbal , 556 \\nU.S. 662, 678 (2009) (quoting Bell Atlantic Corp. v. Twombly , 550 U.S. 544, 570 (2007)). A court \\nmust take all factual allegations as true and view the complaint in the light most favorable to the plaintiff. Knievel v. ESPN , 393 F.3d 1068, 1072 (9th Cir. 2005). The factual allegations need not be \\ndetailed, but a plaintiff must provide “more than an unadorned, the-defendant-unlawfully- harmed -me   \\n \\n \\n \\n \\n 3 1 \\n2 \\n3 \\n4 \\n5 \\n6 \\n7 \\n8 \\n9 \\n10 \\n11 \\n12 \\n13 \\n14 \\n15 \\n16 \\n17 \\n18 \\n19 \\n20 \\n21 \\n22 \\n23 \\n24 \\n \\n accusation.” Iqbal , 556 U.S. at 678. Generally, when ruling on a 12(b)(6) motion, a court may consider \\nonly the pleadings and limited materials, such as “ documents attached to the complaint, documents \\nincorporated by reference in the complaint, or matters of judicial notice .” United States v. Ritchie , 342 \\nF.3d 903, 908 (9th Cir. 2003) . If a court considers other evidence, “ it must normally convert the \\n12(b)(6) motion into a Rule 56 motion for summary judgment, and it must give the nonmoving party \\nan opportunity to respond.” Id.  at 907.  \\nThe Federal Rules  of Civil Procedure provide the following special standard for pleading \\nconditions precedent: “In pleading conditions precedent, it suffices to allege generally that all \\nconditions precedent have occurred or been performed. But when denying that a condition precedent \\nhas occurred or been performed, a party must do so with particularity.” Fed. R. Civ. P. 9(c). Courts in \\nthe Ninth Circuit have interpreted this to be a lax standard, satisfied by general allegations that need \\nnot directly address the condition precedent. See Kiernan v. Zuric h Cos., 150 F.3d 1120, 1124 (9th \\nCir. 1998)  (allegation that policy was in full force and effect was sufficient to allege that the condition \\nprecedent was satisfied); see also Sam Rubin Entm't, Inc. v. AARP, Inc., No. CV 16 -6431- RSWL -\\nSSX, 2016 WL 7336554, at *7–8 (C.D. Cal. Dec. 15, 2016) ; Ruiz Food Prods ., Inc. v. Catlin \\nUnderwriting U.S., Inc., No. 1:11- cv-00889 OWW, 2011 WL 3323046, at *4 (E.D. Cal. Aug. 2, 2011)  \\n(allegation of full performance of all obligations covers condition precedent in insurance policy). \\nNotwithstanding this relaxed standard, there are some circumstances under which general allegations \\nwill not suffice. For example, if a plaintiff admits that a condition was not met and asserts an excuse \\nfor that fail ure, it must plead that excuse with particularity . Waltz Sheridan Crawford, Inc. v. Calhoun,  4 1 \\n2 \\n3 \\n4 \\n5 \\n6 \\n7 \\n8 \\n9 \\n10 \\n11 \\n12 \\n13 \\n14 \\n15 \\n16 \\n17 \\n18 \\n19 \\n20 \\n21 \\n22 \\n23 \\n24 No. 3:18- cv-01877- SB, 2019 WL 3992272, at *3 (D. Or. Aug. 23, 2019)  (“Rule 9(c) does not permit \\na party to plead an excuse by alleging generally that all conditions precedent have been satisfied.”).  \\n“The consensus among district courts is that f ailure to mediate a dispute pursuant to a contract \\nthat makes mediation a condition precedent to filing a lawsuit warrants dismissal under Rule \\n12(b)(6 ).” Franke v.  Yates , No. 19- cv-00007- DKW -RT, 2019 WL 4856002, at *5 (D. Haw. Oct. 1, \\n2019) (internal quotation marks omitted) (collecting cases). Alternatively, a court may opt to stay the case to allow for mediation . Advanced Bodycare Sols., LLC v. Thione Int'l, Inc., 524 F.3d 1235, 1241 \\n(11th Cir. 2008)  (“[D] istrict courts have inherent, discretionary authority to issue stays in many \\ncircumstances, and granting a stay to permit mediation (or to require it) will often be appropriate .”); \\nsee also  Kee Action Sports, LLC v. Shyang Huei Indus. Co., No. 3:14- CV-00071- HZ, 2014 WL \\n2506496, at *4 (D. Or. June 2, 2014)  (denying a motion to dismiss for failure to mediate but finding \\n“that in the interest of judicial economy and efficiency, the case should be stayed pending the pa rties' \\nconclusion of mediation”). \\nb.Discussion\\nAs an initial matter, the Court must determine whether  the construction contract  includes a \\ncondition precedent  requir ing the parties to mediate before  filing a lawsuit. Whether a contract \\ncontains a condition precedent is purely a question of contract interpretation. Franke , 2019 WL \\n4856002, at *5 . Federal courts apply state law to questions of contract interpretation. In re Cty. of \\nOrange , 784 F.3d 520, 530 (9th Cir. 2015) (“rules of contract interpretation and construction are \\nplainly substantive under Erie  [R. Co. v. Thompkins , 304 U.S. 64 (1938)] ”).  “Under Commonwealth \\nlaw, the interpretation of a contract relates to the ascertainment of its meaning, and the intent of  the   \\n \\n \\n \\n \\n 5 1 \\n2 \\n3 \\n4 \\n5 \\n6 \\n7 \\n8 \\n9 \\n10 \\n11 \\n12 \\n13 \\n14 \\n15 \\n16 \\n17 \\n18 \\n19 \\n20 \\n21 \\n22 \\n23 \\n24 \\n \\n contracting parties is generally presumed to be encompassed by the plain language of the contract \\nterms.” Commonwealth Ports Auth. v. Tinian Shipping Co. Inc., 2007 MP 22 ¶ 15 (cleaned up). “[T]he \\nlanguage in a contract is to be given its plain grammatical meaning unless doing so would defeat the \\nparties’ intent.” Id.  at ¶ 17. In interpreting a contract, a court should look within the four corners of \\nthe docume nt only. Id.  Only if the terms of the contract are ambiguous should a court look to extrinsic \\nevidence to determine the parties’ intent. Riley v. PSS , 4 N. Mar. I. 85, 1994 WL 111129, at *2–3  \\n(1994). “Although conditions are not favored in the law, [Commonwealth courts] may construe a \\ncontract term as a condition if the parties unambiguously require such construction.” Manglona v. \\nBaza , 2012 MP 4 ¶ 28. In Franke , the District Court of Hawaii considered two factors to determine if \\nmediation is a condition precedent: (1) did the agreement address the filing of a lawsuit, and (2) did it \\nstate that mediation must take place first. Franke , 2019 WL 4856002 at *5.  \\nThe relevant provisions in the contract involved here provide as follows:  \\n20.1 Any controversy or cla im arising out of or relating to this Agreement or the \\nbreach hereof, shall be subject to good faith negotiation and/or mediation as a \\ncondition precedent to binding dispute resolution. IPJ and Pacific Rim will attempt \\nin good faith to promptly resolve any  controversy or claim arising out of or relating \\nto this Agreement or the breach thereof by negotiations between representatives of \\neach party who have authority to settle the controversy. The disputing party shall \\ngive the other party written notice of the dispute, which notice shall include a \\ngeneral description of the dispute, and the name and title of the individual who will \\nrepresent that party. The representatives shall meet at a mutually acceptable time \\nand place within seven (7) business days after the date of the disputing party's notice \\nand thereafter as often as they reasonably deem necessary to exchange relevant \\ninformation and to attempt to resolve the dispute.  \\n \\n20.2 If good faith negotiations are not successful, the parties shall endeavor to \\nresolve their disputes by mediation.  \\n  6 1 \\n2 \\n3 \\n4 \\n5 \\n6 \\n7 \\n8 \\n9 \\n10 \\n11 \\n12 \\n13 \\n14 \\n15 \\n16 \\n17 \\n18 \\n19 \\n20 \\n21 \\n22 \\n23 \\n24 (Contract, ECF No. 5- 1 at 22) (emphasis added). IPI asserts that this is clear, unambiguous language \\nthat requires the parties to mediate prior to filing a lawsuit.  (Motion to Dismiss at 2 .) Pacific Rim \\nargues that the  use of “and/or” in Article 20.1 and “shall endeavor” in Article 20.2 makes the contract \\nambiguous. (Opposition to Motion to Dismiss  at 9–10.) Under Pacific Rim’s interpretation, “and/or” \\nmeans that either “negotiation and mediation” or “negotiation or mediation.” Therefore, both are not \\nrequired. The Court agrees with Pacific Rim’s conclusion, not because the contract language is \\nambiguous, but rather for the opposite reason. Article 20 of the contract  clearly contemplates good \\nfaith neg otiations as the first step then media tion as the second step if those negotiations are \\nunsuccessful. If negotiations are fruitful, mediation is not required (hence, the “or”); i f they are not, \\nmediation is mandatory (hence, the “and”). Moreover, the contr act explicitly states negotiation and/or \\nmediation are a condition precedent  to binding dispute resolution. This  language demonstrates the \\nparties’ intent to require good faith negotiations, and because subsection 20.1 requires a failed negotiation to be f ollowed by mediation, either or both are required prior to entering into binding \\ndispute resolution. Litigation is one method of binding dispute resolution; another is binding \\narbitration. Del Rey Fuel, LLC v. Bellingham Marine Indus., Inc., No. CV1201008MMM(M ANx) , \\n2012 WL 12941956, at *8 (C.D. Cal. Apr. 10, 2012) ; see also  Kane Builders S & D, Inc. v. Maryland \\nCVS Pharmacy , LLC, No. CIV.A. DKC 12- 3775, 2013 WL 2948381, at *2  n.3 (D. Md. June 13, \\n2013) (“ Litigation is unquestionably a form of binding dispute resolution”).  \\nHaving determined that the construction contract does contain conditions precedent to filing a \\nlawsuit, the Court then turns to the question of whether Pacific Rim complied  with those requirement s. \\nHere,  the underlying dispute is  IPI’s failure to pay Pacific Rim  under the construction contract  for  7 1 \\n2 \\n3 \\n4 \\n5 \\n6 \\n7 \\n8 \\n9 \\n10 \\n11 \\n12 \\n13 \\n14 \\n15 \\n16 \\n17 \\n18 \\n19 \\n20 \\n21 \\n22 \\n23 \\n24 work performed by Pacific Rim. (SAC at ¶ 34.) Pacific Rim satisfied Article 20.1 when it successfully \\nnegotiated the promissory note  and notice of mutual termination  to resolve  the dispute over \\nnonpayment. Because the good faith negotiations were successful, there was no reason for the parties \\nto m ediate. Under IPI’s interpretation, it could continue to invoke Article 20 after negotiating a \\nresolution to a dispute, requiring Pacific Rim to either  return to the negotiation table or to move on to \\nmediation . However, such a reading is contrary to the plain language of the contract , which does not \\nrequire both negotiation and meditation as a condition precedent to filing a lawsuit. Moreover, IPI’s \\ninterpretation would allow it to  repeatedly impose additional obstacles on Pacific Rim ’s ability to  file \\nsuit by refusing to comply with the terms of a settlement it agreed to  in good faith.   \\nFor these reasons, the Court finds that al though there is an unambiguous condition precedent \\nin Article 20 of the construction contract, Pacific Rim satisfied that conditio n by engaging in good \\nfaith negotiations that resulted in a mutually agreed upon resolution – termination of the contract and a promissory note. Therefore, IPI’s motion to dismiss for failure to mediate prior to filing this lawsuit is DENIED. IPI’s alterna te motion for summary judgment, based on the same argument that Pacific \\nRim did not satisfy Article 20’s condition precedent, fails for the same reason.  \\nIII. PLAINTIFF’S MOTION FOR PARTIAL SUMMARY JUDGMENT\\nPacific Rim filed a motion for partial summary judgment on the second cause of action in its \\nsecond amended complaint – breach of contract of the September 2018 promissory note . (Motion for \\nSummary Judgment, ECF No. 85.)  IPI asserts that the motion, brought before discovery has begun, is \\npremature  and should be denied without prejudice. (Opposition to Motion for Summary Judgment at \\n1, ECF No. 88.)  8 1 \\n2 \\n3 \\n4 \\n5 \\n6 \\n7 \\n8 \\n9 \\n10 \\n11 \\n12 \\n13 \\n14 \\n15 \\n16 \\n17 \\n18 \\n19 \\n20 \\n21 \\n22 \\n23 \\n24 a. Legal Standard\\nSummary judgment is appropriate “if the movant shows that there is no genuine dispute as to \\nany material fact and the movant is entitled to judgment as a matter of law.” Fed. R. Civ. P. 56(a). The \\nmovant must identify each claim or defense ( or part thereof) on which summary judgment is sought. \\nId. “One of the principal purposes of the summary judgment rule is to isolate and dispose of factually \\nunsupported claims or defenses [.]” Celotex Corp. v. Catrett , 477 U.S. 317, 323–24 (1986). “[A]t the \\nsummary judgment stage the judge's function is not himself to weigh the evidence and determine the truth of the matter but to determine whether there is a genuine issue for trial.” Anderson v. Liberty Lobby, Inc., 477 U.S. 242, 249 (1986). “A material issue of fact is one that affects the outcome of the litigation and requires a trial to resolve the parties’ differing versions of the truth.” S.E.C. v. Seaboard Corp., 677 F.2d 1301, 1306 (9th Cir. 1982).   \\nThe initial burden lies with the party moving for summary judgment to identify particular \\nmaterials in the record that it believes demonstrate the absence of a genuine issue of material fact. Celotex, 477 U.S. at 323. The burden then shifts to the nonmovant to go beyond the pleadings and  \\nestablish a genuine issue for tr ial. Id. at 324. T he nonmovant “must point to some facts in the record \\nthat demonstrate a genuine issue of material fact and, with all reasonable inferences made in the [nonmovant ]’s favor, could convince a reasonable jury to find for the [ nonmovant ].” Reese v. Jefferson \\nSch. Dist. No. 14J , 208 F.3d 736, 738 (9th Cir. 2000). A court can only rely on admissible evidence in \\ndeciding a motion for summary judgment. Orr v. Bank of Am., 285 F.3d 764, 773 (9th Cir. 2002). However, the evidence need not be submitted in a form that would be admissible at trial, so long as the content is admissible. Fraser v. Goodale , 342 F.3d 1032, 1036 (9th Cir. 2003).   9 1 \\n2 \\n3 \\n4 \\n5 \\n6 \\n7 \\n8 \\n9 \\n10 \\n11 \\n12 \\n13 \\n14 \\n15 \\n16 \\n17 \\n18 \\n19 \\n20 \\n21 \\n22 \\n23 \\n24 “[A] party may file a motion for summary judgment at any time  until 30 days after the close \\nof all discovery.” Fed. R. Civ. P. 56( b). “Rule 56 does not require that any discovery take place before \\nsummary judgment can be granted; if a party cannot adequately defend such a motion, Rule 56(f)1 is \\nhis remedy .” Washington v. Allstate Ins. Co., 901 F.2d 1281, 1285 (5th Cir. 1990)  (collecting cases); \\nsee also  Waterloo Furniture Components, Ltd. v. Haworth, Inc., 467 F.3d 641, 648 (7th Cir. 2006)  \\n(“the fact that discovery is not complete —indeed has not begun—need not defeat a motion for \\nsummary judgment.”) (internal quotat ion marks omitted).  In response to a motion for summary \\njudgment, a nonmovant may argue that the motion is premature because not all facts are available yet. \\nA court may defer or deny summary judgment to allow additional time for discovery “ [i]f a nonmovant \\nshows by affidavit or declaration that, for specified reasons, it cannot present facts essential to justify its opposition.” Fed. R. Civ. P. 56(d). The  “party seeking additional discovery under Rule 56(d) must \\nexplain what further discovery would reveal that is essential to justify its opposition to the motion for summary judgment.” Stevens v. Corelogic, Inc. , 899 F.3d 666, 678 (9th Cir. 2018), cert. denied , 139 \\nS. Ct. 1222 (2019) (cleaned up). “[F]or purposes of a Rule 56(d) request, the evidence sought must bemore than the object of pure speculation.” Id.  (internal quotation marks omitted). The nonmovant must \\ndemonstrate that “(1) it has set forth in affidavit form the specific facts it hopes to elicit from further discovery; (2) the facts sought exist; and (3) the sought -after facts are essential to oppose summary \\n1 “Federal Rule of Civil Procedure 56(d) was, until December 1, 2010, codified as Federal Rule of Civil \\nProcedure 56(f).” Stevens v. Corelogic, Inc., 899 F.3d 666, 676 n.8 (9th Cir. 2018).    10 1 \\n2 \\n3 \\n4 \\n5 \\n6 \\n7 \\n8 \\n9 \\n10 \\n11 \\n12 \\n13 \\n14 \\n15 \\n16 \\n17 \\n18 \\n19 \\n20 \\n21 \\n22 \\n23 \\n24 judgment.” Id. (quoting Family Home & Fin. Ctr., Inc. v. Fed. Home Loan Mortg. Corp., 525 F.3d \\n822, 827 (9th Cir. 2008)). \\nb.Discussion\\nPacific Rim move d for summary judgment on its breach of promissory note claim, asserting \\nthat there is no genuine material dispute that IPI (1) executed the note, and (2) failed to make the \\nrequired payments under the note. (Memorandum in Support of Motion for Summary Judgment at 1–\\n2, ECF No. 86, hereinafter “Memo.”) In support of this motion, Pacific Rim filed a declaration from Keith Stewart, its manager/owner, as well as a copy of the promissory note and a record of the payments received from IPI on the note. ( See generally ECF No. 87.) It argues that (1) the note is a \\nvalid contract , and there is no evidence of fraud, forgery, duress or any other defense;  (2) IPI breached \\nby failing to make payments  as required by the note; and (3) IPI currently owes $5,650,000. “ Breach \\nof a contract occurs upon the nonperformance of a contractual duty of immediate  performance.” \\nManglona, 2012 MP  at ¶ 13 (internal quotation marks omitted). “To prevail on a breach of contract \\nclaim, a plaintiff must demonstrate: (1) the existence of a valid contract; (2) the breach of an obligation imposed under the contract; and (3) damage to the plaintiff resulting from the breach.” Ada v. Nakamoto, Civil Action No. 08- 0029 D (N. Mar. I. Super. Ct. Sept. 2, 2011) (citing Restatement \\n(Second) of Contracts §§ 235, 237, 240.) \\nIPI counters that the motion is premature because it intends to raise the defense of  fraud i n the \\ninducement to invalidate the promissory note.  “In particular, IPI believes that Pacific Rim, in order to induce IPI to execute the promissory note in the agreed amount, misrepresented to IPI that work had been done on the project in a particular amount, by skilled and qualified workers, when in fact both  11 1 \\n2 \\n3 \\n4 \\n5 \\n6 \\n7 \\n8 \\n9 \\n10 \\n11 \\n12 \\n13 \\n14 \\n15 \\n16 \\n17 \\n18 \\n19 \\n20 \\n21 \\n22 \\n23 \\n24 the qualifications and competence of the workers and the hours that they supposedly worked were \\nsubstantially inflated by Pacific Rim.” (Opp ositio n to Motion for Summary Judgment at 3 , ECF No. \\n88.) I PI invokes Rule 56(d) and asks the Court to deny Pacific Rim’s motion for summary judgment \\nwithout prejudice to allow time for discovery. In support of its opposition, IPI filed a declaration from Joey San Nicolas, IPI’s new general counsel. (ECF No. 88-1).  \\nIPI has not met its burden under Rule 56(d). Applying the Ninth Circuit’s three -prong test, IPI \\ndid not submit an affidavit attesting to (1) the specific facts it hopes to elicit; (2) that these facts exist, and (3) that they are essential to oppose the  summary judgment motion. In its opposition brief , IPI’s \\ncounsel points to the specific facts and explains why these facts are essential to opposing the motion \\nfor summary judgment  by allowing it to raise the fraud in the inducement defense. However, neither \\nIPI’s counsel in this matter nor San Nicolas attest  that the facts sought actually exist. San Nicolas’ \\ndeclaration is perfunctory and simply states that the time, pay and qualification records are under Pacific Rim’s control. His declaration does not satisfy Rule 56(d) as  it does  not state what the specific \\nfacts  he hopes  discovery will revea l, not to mention his belief that the se facts  exist. Additionally, at \\noral argument, IPI’s counsel could not identify any individual who could provide an affidavit attesting  \\nto the existence of facts that would support a fraud in the inducement defense, de spite the fact that \\nPacific Rim  identified three IPI managers and three IPI attorneys who participated in the negotiation \\nand drafting of the promissory note, as well as an independent auditor company that  reviewed Pacific \\nRim’s invoices for IPI. (Stewart Decl. at ¶¶ 5, 16, 17, ECF No. 87.) Instead, IPI’s counsel admitted \\nthat discovery might reveal  evidence of fraud in the inducement, but  also could  turn up nothing. A \\nparty requesting discovery under Rule 56(d) cannot be expected to predict exactly what evidence  12 1 \\n2 \\n3 \\n4 \\n5 \\n6 \\n7 \\n8 \\n9 \\n10 \\n11 \\n12 \\n13 \\n14 \\n15 \\n16 \\n17 \\n18 \\n19 \\n20 \\n21 \\n22 \\n23 \\n24 discovery will uncover, but also cannot rely on speculation to delay summary judgment.  Stevens , 899 \\nF.3d at 678. “[F]ailure to comply with the requirements of Rule 56(f)  [now Rule 56(d)]  is a proper\\nground for denying discovery and proceeding to summary judgment.” Cal. ex. rel.  Cal. Dep't of Toxic \\nSubstances Control v. Campbell , 138 F.3d 772, 779 (9th Cir. 1998)  (internal quotation marks omitted). \\nTherefore, the Court turns to the merits of Pacific Rim’s motion for partial summary judgment. \\nPacific Rim submitted evidence that the promissory note exists in the form of the note itself  and a \\nsworn declaration from Keith Stewart attesting to facts regar ding the negotiation and execution of the \\nnote. (Exhibit A  “Promissory Note”  and Stewart Decl. ¶¶ 13 –18, ECF No. 87.) The Court notes that \\nthe promissory note submitted by Pacific Rim is the same document that IPI filed with its opposition \\nto the lien application. (ECF No. 49- 8.) Additionally, IPI admitted that it executed the promissory note \\nin its answer to the first iteration of the complaint in this matter.2 (See Answer ¶ 1, ECF No. 3) \\n(admitting to Complaint ¶ 28, ECF No. 1, “On or about September 21, 2018, Defendant executed a \\npromissory note . . . in favor of Plaintiff for the payment of $11,300,000”). As to the breach of the \\nnote and damages, Mr. Stewart  attests that IPI failed to make payments under the note and only paid \\n$5,650,000 of the total $11,300,00 due . (Stewart Decl. ¶¶ 21 –24, ECF No. 87.) The promissory note \\nrequired full repayment by June 15, 2019. (ECF No. 87 at 5.) Pacific Rim also provided a spreadsheet \\n2 “When a pleading is amended or withdrawn, the superseded portion ceases to be a conclusive judicial \\nadmission; but it still remains as a statement once seriously made by an authorized agent, and as such it is \\ncompetent evidence of the facts stated, though  controvertible, like any other extrajudicial admission made by a \\nparty or his agent.” Huey v. Honeywell, Inc. , 82 F.3d 327, 333 (9th Cir. 1996)  (internal quotation marks omitted).   13 1 \\n2 \\n3 \\n4 \\n5 \\n6 \\n7 \\n8 \\n9 \\n10 \\n11 \\n12 \\n13 \\n14 \\n15 \\n16 \\n17 \\n18 \\n19 \\n20 \\n21 \\n22 \\n23 \\n24 of payments received from IPI on the note.3 (Exhibit B, ECF No. 87.) In response, IPI offered no \\nevidence or affidavits to rebut any of the evidence presented by Pacific Rim. IPI has thus failed to \\nmeet its burden to establish a genuine issue of material fact. Therefore, the Court found that Pacific Rim is  entitled to summary judgment on its claim for breach of the promissory note.  \\nIV. CONCLUSION\\nFor the foregoing reasons, Defendant IPI’s motion to dismiss the second amended complaint \\nis DENIED,  and Plaintiff Pacific Rim’s motion for partial summary judgment as to the second cause \\nof action, breach of contract on the promissory note, is GRANTED.  Judgment is entered in favor of \\nPacific Rim  on this claim in the principal amount of $5,650,000. Pursuant to Rule 54(b), the Court \\nexpressly finds that there is no just reason for delay of the entry of judgment on this claim.  \\nThe promissory note provides that the Holder, Pacific Rim, is entitled to reasonable attorneys’ \\nfees and costs  for filing the lawsuit, as well as prejudgment interest. (ECF No. 87 at 6-7.) The Court \\ngrants Pacific Rim attorneys ’ fees and cost s associated with this claim, as well as prejudgment interest, \\nand has ordered Pacific Rim  to submit a proposal regarding interest calculation and attorneys’ fees  by \\nApril 16, 2020.  \\n3 The admissibility of Exhibit B  is questionable, as Pacific Rim presented it without an explanation of  when, \\nhow or by whom this document was prepared. Nevertheless, the Court notes that Pacific Rim does not rely \\nsolely on this document as evidence of a breach of the promissory note. Further, IPI admitted that it only paid \\n$5,650,000 on the note, which is consistent with Pacific Rim’s calculations. ( See Answer ¶ 1, ECF No. 3) \\n(admitting to Complaint ¶ 33, ECF No. 1, “Defendant paid Plaintiff a total of Five Million Six Hundred and Fifty Thousand toward the Principal.”)   14 1 \\n2 \\n3 \\n4 \\n5 \\n6 \\n7 \\n8 \\n9 \\n10 \\n11 \\n12 \\n13 \\n14 \\n15 \\n16 \\n17 \\n18 \\n19 \\n20 \\n21 \\n22 \\n23 \\n24 The Clerk is directed to enter judgment in favor of Pacific Rim in the amount of $5,650,000 \\nplus attorneys’ fees, costs and interest to be determined.  \\nIT IS SO ORDERED this 23rd day  of April , 2020. \\nRAMONA V. MANGLONA  \\nChief  Judge  \\n\""
      ]
     },
     "execution_count": 78,
     "metadata": {},
     "output_type": "execute_result"
    }
   ],
   "source": [
    "text_df.loc[0]['text']"
   ]
  },
  {
   "cell_type": "code",
   "execution_count": null,
   "id": "2a35e2ec",
   "metadata": {},
   "outputs": [],
   "source": []
  },
  {
   "cell_type": "code",
   "execution_count": null,
   "id": "c9970ae2",
   "metadata": {},
   "outputs": [],
   "source": []
  }
 ],
 "metadata": {
  "kernelspec": {
   "display_name": "Python 3 (ipykernel)",
   "language": "python",
   "name": "python3"
  },
  "language_info": {
   "codemirror_mode": {
    "name": "ipython",
    "version": 3
   },
   "file_extension": ".py",
   "mimetype": "text/x-python",
   "name": "python",
   "nbconvert_exporter": "python",
   "pygments_lexer": "ipython3",
   "version": "3.9.13"
  }
 },
 "nbformat": 4,
 "nbformat_minor": 5
}
