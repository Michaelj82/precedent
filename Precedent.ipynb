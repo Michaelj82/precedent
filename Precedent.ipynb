{
 "cells": [
  {
   "cell_type": "code",
   "execution_count": 1,
   "id": "0a11738e",
   "metadata": {},
   "outputs": [],
   "source": [
    "import requests"
   ]
  },
  {
   "cell_type": "code",
   "execution_count": null,
   "id": "62a50881",
   "metadata": {},
   "outputs": [],
   "source": []
  },
  {
   "cell_type": "code",
   "execution_count": 11,
   "id": "7c4ebc39",
   "metadata": {},
   "outputs": [
    {
     "name": "stdout",
     "output_type": "stream",
     "text": [
      "Case ID: 6156472\n",
      "Case Name: Halliburton Oil Well Cementing Co. v. Walker\n",
      "Case URL: https://cite.case.law/us/329/1/\n"
     ]
    }
   ],
   "source": [
    "import requests\n",
    "\n",
    "# set up the API endpoint and parameters\n",
    "url = \"https://api.case.law/v1/cases/\"\n",
    "params = {\n",
    "    \"search\": \"title:HALLIBURTON OIL WELL CEMENTING CO. v. WALKER et al., DOING \"\n",
    "}\n",
    "\n",
    "# send the request and get the response\n",
    "response = requests.get(url, params=params, headers={'Authorization': 'Token redacted'}\n",
    ")\n",
    "\n",
    "# extract the case data from the response\n",
    "case_data = response.json()[\"results\"][0]  # assuming there is only one result\n",
    "\n",
    "# extract the relevant fields from the case data\n",
    "case_id = case_data[\"id\"]\n",
    "case_name = case_data[\"name_abbreviation\"]\n",
    "case_url = case_data[\"frontend_url\"]\n",
    "\n",
    "# print out the results\n",
    "print(f\"Case ID: {case_id}\")\n",
    "print(f\"Case Name: {case_name}\")\n",
    "print(f\"Case URL: {case_url}\")"
   ]
  },
  {
   "cell_type": "code",
   "execution_count": 16,
   "id": "842642ae",
   "metadata": {},
   "outputs": [
    {
     "name": "stdout",
     "output_type": "stream",
     "text": [
      "Case Name: HALLIBURTON OIL WELL CEMENTING CO. v. WALKER et al., doing business as DEPTHOGRAPH CO.\n",
      "No case text available.\n"
     ]
    }
   ],
   "source": [
    "case_text_response = requests.get(f\"{url}{case_id}/\")\n",
    "\n",
    "# extract the case data from the response\n",
    "case_data = case_text_response.json()\n",
    "\n",
    "\n",
    "# extract the relevant fields from the case data\n",
    "case_name = case_data[\"name\"]\n",
    "if \"casebody\" in case_data:\n",
    "    case_text = case_data[\"casebody\"][\"data\"]\n",
    "else:\n",
    "    case_text = None\n",
    "\n",
    "# print out the case text (if available)\n",
    "print(f\"Case Name: {case_name}\")\n",
    "if case_text:\n",
    "    print(f\"Case Text: {case_text}\")\n",
    "else:\n",
    "    print(\"No case text available.\")\n"
   ]
  },
  {
   "cell_type": "code",
   "execution_count": null,
   "id": "dc6840b1",
   "metadata": {},
   "outputs": [],
   "source": []
  }
 ],
 "metadata": {
  "kernelspec": {
   "display_name": "Python 3 (ipykernel)",
   "language": "python",
   "name": "python3"
  },
  "language_info": {
   "codemirror_mode": {
    "name": "ipython",
    "version": 3
   },
   "file_extension": ".py",
   "mimetype": "text/x-python",
   "name": "python",
   "nbconvert_exporter": "python",
   "pygments_lexer": "ipython3",
   "version": "3.9.13"
  }
 },
 "nbformat": 4,
 "nbformat_minor": 5
}
